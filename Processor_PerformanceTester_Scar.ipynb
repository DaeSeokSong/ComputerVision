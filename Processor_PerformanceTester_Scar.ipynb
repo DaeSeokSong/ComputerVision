{
  "nbformat": 4,
  "nbformat_minor": 0,
  "metadata": {
    "colab": {
      "name": "Processor_PerformanceTester-Scar.ipynb",
      "provenance": [],
      "collapsed_sections": [],
      "toc_visible": true,
      "authorship_tag": "ABX9TyNTaUn4r19fNYAqwb8Nb4W/",
      "include_colab_link": true
    },
    "kernelspec": {
      "name": "python3",
      "display_name": "Python 3"
    },
    "language_info": {
      "name": "python"
    }
  },
  "cells": [
    {
      "cell_type": "markdown",
      "metadata": {
        "id": "view-in-github",
        "colab_type": "text"
      },
      "source": [
        "<a href=\"https://colab.research.google.com/github/DaeSeokSong/image-processing/blob/feature%2FUnet-scar/Processor_PerformanceTester_Scar.ipynb\" target=\"_parent\"><img src=\"https://colab.research.google.com/assets/colab-badge.svg\" alt=\"Open In Colab\"/></a>"
      ]
    },
    {
      "cell_type": "markdown",
      "source": [
        "# **Import**"
      ],
      "metadata": {
        "id": "j_SoWfFhxL0-"
      }
    },
    {
      "cell_type": "code",
      "source": [
        "# Image processing\n",
        "import cv2\n",
        "import numpy as np\n",
        "\n",
        "from google.colab.patches import cv2_imshow\n",
        "from google.colab import output\n",
        "\n",
        "# ETC\n",
        "import os\n",
        "import time"
      ],
      "metadata": {
        "id": "xpg4AUPixNrD"
      },
      "execution_count": 2,
      "outputs": []
    },
    {
      "cell_type": "markdown",
      "source": [
        "## Mount google drive"
      ],
      "metadata": {
        "id": "8OHL2n1YxlH_"
      }
    },
    {
      "cell_type": "code",
      "source": [
        "from google.colab import drive\n",
        "drive.mount('/content/gdrive')"
      ],
      "metadata": {
        "colab": {
          "base_uri": "https://localhost:8080/"
        },
        "id": "NxOqA3DpxlgC",
        "outputId": "a176691a-7d02-411e-e24f-3d3fa0cbbd7f"
      },
      "execution_count": 3,
      "outputs": [
        {
          "output_type": "stream",
          "name": "stdout",
          "text": [
            "Mounted at /content/gdrive\n"
          ]
        }
      ]
    },
    {
      "cell_type": "code",
      "source": [
        "%cd /content/gdrive/MyDrive/Models/GAN_Scar\n",
        "!ls -al"
      ],
      "metadata": {
        "colab": {
          "base_uri": "https://localhost:8080/"
        },
        "id": "DqwTBfCyxm3v",
        "outputId": "8185b901-44d2-424f-d91c-26e6b1e48903"
      },
      "execution_count": 4,
      "outputs": [
        {
          "output_type": "stream",
          "name": "stdout",
          "text": [
            "/content/gdrive/MyDrive/Models/GAN_Scar\n",
            "total 10549\n",
            "drwx------ 2 root root     4096 Aug 16 08:53  Dataset\n",
            "-rw------- 1 root root    86402 Aug 13 09:16  Image_segmentation-Scar.ipynb\n",
            "drwx------ 2 root root     4096 Aug 17 05:49  Log\n",
            "drwx------ 2 root root     4096 Aug 16 08:39  Raw_Dataset\n",
            "-rw------- 1 root root    20445 Aug 24 11:00  RawDataset_Processor-Scar.ipynb\n",
            "drwx------ 2 root root     4096 Aug 23 14:47  result\n",
            "-rw------- 1 root root    39995 Aug 15 11:40 'UNet architecture.PNG'\n",
            "-rw------- 1 root root 10637811 Aug 23 14:31  Unet-Scar.ipynb\n"
          ]
        }
      ]
    },
    {
      "cell_type": "markdown",
      "source": [
        "# **Grobal variable**"
      ],
      "metadata": {
        "id": "QoO0sORTxEIQ"
      }
    },
    {
      "cell_type": "code",
      "source": [
        "# Path\n",
        "MODEL_PATH = \"/content/gdrive/MyDrive/Models/GAN_Scar\"\n",
        "\n",
        "RAW_TRAIN_SET_PATH = \"/Raw_Dataset/train\"\n",
        "RAW_TEST_SET_PATH = \"/Raw_Dataset/test\"\n",
        "\n",
        "DATASET_PATH = \"/Dataset\"\n",
        "\n",
        "IMAGES_PATH = '/images'\n",
        "LABELS_PATH = '/labels'\n",
        "\n",
        "# Image preprocess\n",
        "NORM_INPUT_W_SIZE = 572\n",
        "NORM_INPUT_H_SIZE = 572"
      ],
      "metadata": {
        "id": "Z9c_qcr4xHQR"
      },
      "execution_count": 5,
      "outputs": []
    },
    {
      "cell_type": "markdown",
      "source": [
        "# **Function**"
      ],
      "metadata": {
        "id": "ttpnk92dc7Je"
      }
    },
    {
      "cell_type": "code",
      "source": [
        "def resize_image(image):\n",
        "    image = cv2.resize(image, \n",
        "                       dsize=(NORM_INPUT_W_SIZE, NORM_INPUT_H_SIZE), \n",
        "                       interpolation=cv2.INTER_CUBIC\n",
        "                       )\n",
        "    \n",
        "    return image\n",
        "\n",
        "def imshow_waitkey_enter(image):\n",
        "    cv2_imshow(image)\n",
        "\n",
        "    time.sleep(0.5)\n",
        "    \n",
        "    input(\"Please press the Enter key to proceed\\n\")\n",
        "    output.clear()\n",
        "\n",
        "    pass"
      ],
      "metadata": {
        "id": "8pYDBzLPc8W2"
      },
      "execution_count": 6,
      "outputs": []
    },
    {
      "cell_type": "markdown",
      "source": [
        "# **Make dir**"
      ],
      "metadata": {
        "id": "OR9mVlktdB-A"
      }
    },
    {
      "cell_type": "code",
      "source": [
        "# Create processed dataset dir\n",
        "train_dir = os.path.join(MODEL_PATH + DATASET_PATH, 'train')\n",
        "val_dir = os.path.join(MODEL_PATH + DATASET_PATH, 'val')\n",
        "test_dir = os.path.join(MODEL_PATH + DATASET_PATH, 'test')\n",
        "\n",
        "if not os.path.exists(train_dir):\n",
        "    os.makedirs(train_dir)\n",
        "\n",
        "if not os.path.exists(val_dir):\n",
        "    os.makedirs(val_dir)\n",
        "\n",
        "if not os.path.exists(test_dir):\n",
        "    os.makedirs(test_dir)"
      ],
      "metadata": {
        "id": "c3JXzvP6dDFA"
      },
      "execution_count": 7,
      "outputs": []
    },
    {
      "cell_type": "markdown",
      "source": [
        "# 사용 모델"
      ],
      "metadata": {
        "id": "BULUcWpAkUIK"
      }
    },
    {
      "cell_type": "markdown",
      "source": [
        "## UNet (Custom)\n",
        "\n",
        "**마지막 Output 채널 2 → 1 변경**\n",
        "\n",
        "<img src = \"https://drive.google.com/uc?id=14CzAAaKv5v7pVfvugBRbD1xI4IuhmoyT\"  width = 640>\n"
      ],
      "metadata": {
        "id": "xhiroA0ykUDr"
      }
    },
    {
      "cell_type": "markdown",
      "source": [
        "# ***데이터셋 학습 비교 실험***\n",
        "\n",
        "\n",
        "---\n",
        "\n",
        "\n",
        "*공통사항*\n",
        "* 원본 이미지 크기 = 244 * 244\n",
        "* epoch = 20\n",
        "* batch = 16\n",
        "* lr = 1e-3\n",
        "\n",
        "\n",
        "---\n",
        "\n",
        "\n",
        "*주의사항*\n",
        "* 이미지의 사이즈는 정규화 되어야 함\n",
        "\n",
        "\n",
        "---\n",
        "\n",
        "\n",
        "*참고사항*\n",
        "* 딥러닝 CNN 의 대표 모델들이 네트워크 입력 사이즈는 224 * 224\n",
        "\n",
        "\n",
        "---\n",
        "\n",
        "\n"
      ],
      "metadata": {
        "id": "SE4AWru7Aflb"
      }
    },
    {
      "cell_type": "markdown",
      "source": [
        "## 1\n",
        "\n",
        "*적용사항*\n",
        "1. Color space를 이용한 영상처리\n",
        "\n",
        "```\n",
        "TRAIN || EPOCH 0020 | BATCH  033 /  037 | LOSS  0.0327\n",
        "TRAIN || EPOCH 0020 | BATCH  034 /  037 | LOSS  0.0325\n",
        "TRAIN || EPOCH 0020 | BATCH  035 /  037 | LOSS  0.0323\n",
        "TRAIN || EPOCH 0020 | BATCH  036 /  037 | LOSS  0.0324\n",
        "TRAIN || EPOCH 0020 | BATCH  037 /  037 | LOSS  0.0337\n",
        "\n",
        "VALID || EPOCH 0020 | BATCH  012 /  016 | LOSS  0.0361\n",
        "VALID || EPOCH 0020 | BATCH  013 /  016 | LOSS  0.0362\n",
        "VALID || EPOCH 0020 | BATCH  014 /  016 | LOSS  0.0365\n",
        "VALID || EPOCH 0020 | BATCH  015 /  016 | LOSS  0.0356\n",
        "VALID || EPOCH 0020 | BATCH  016 /  016 | LOSS  0.0361\n",
        "```\n",
        "<img src = \"https://drive.google.com/uc?id=1p1WPrwgIFR38YDI9fRKRg68G-eyp1oHC\"  width = 400>"
      ],
      "metadata": {
        "id": "MZUKRe7MccGb"
      }
    },
    {
      "cell_type": "markdown",
      "source": [
        "### Process train dataset"
      ],
      "metadata": {
        "id": "MGnC5SL1dPQA"
      }
    },
    {
      "cell_type": "code",
      "source": [
        "# Set load image dir path\n",
        "image_path = MODEL_PATH + RAW_TRAIN_SET_PATH + IMAGES_PATH\n",
        "label_path = MODEL_PATH + RAW_TRAIN_SET_PATH + LABELS_PATH\n",
        "\n",
        "# Load raw train images\n",
        "train_files = os.listdir(image_path)\n",
        "train_files.sort()\n",
        "\n",
        "# Load raw label images\n",
        "train_label_files = os.listdir(label_path)\n",
        "train_label_files.sort()\n",
        "\n",
        "# Divide train:val = 7:3\n",
        "dataset_size = len(train_files)\n",
        "train_size = int(dataset_size * 0.7)\n",
        "\n",
        "# Create processed scar image for train\n",
        "for idx in range(train_size): \n",
        "    # Access train set\n",
        "    os.chdir(image_path)\n",
        "    image = cv2.imread(train_files[idx])\n",
        "\n",
        "    # Access label set\n",
        "    os.chdir(label_path)\n",
        "    label_image = cv2.imread(train_label_files[idx])\n",
        "\n",
        "    # Equalize histogram used by LAB and BGR color space for make enhanced image \n",
        "    lab_image = cv2.cvtColor(image, cv2.COLOR_BGR2LAB)\n",
        "    l_image, a_image, b_image = cv2.split(lab_image)\n",
        "\n",
        "    l_image = cv2.equalizeHist(l_image)\n",
        "    a_clahe = cv2.createCLAHE(clipLimit=2.0, tileGridSize=(2, 2))\n",
        "    b_clahe = cv2.createCLAHE(clipLimit=2.0, tileGridSize=(16, 16))\n",
        "    a_image = a_clahe.apply(a_image)\n",
        "    b_image = b_clahe.apply(b_image)\n",
        "\n",
        "    lab_image = cv2.merge((l_image, a_image, b_image))\n",
        "    enhanced_image = cv2.cvtColor(lab_image, cv2.COLOR_LAB2BGR)\n",
        "    blue_image, green_image, red_image = cv2.split(enhanced_image)\n",
        "\n",
        "    green_clahe = cv2.createCLAHE(clipLimit=2.0, tileGridSize=(2, 2))\n",
        "    green_image = green_clahe.apply(green_image)\n",
        "\n",
        "    # Save normalized image\n",
        "    # val_image는 흑백 이미지라 1채널에 각 픽셀값들도 0~255로 정규화 되어있다.\n",
        "    cv2.imwrite(os.path.join(train_dir, f'scar_{idx:03d}.png'), green_image)\n",
        "    cv2.imwrite(os.path.join(train_dir, f'label_{idx:03d}.png'), label_image)\n",
        "    #np.save(os.path.join(train_dir, f'scar_{idx:03d}.npy'), val_image)\n",
        "    #np.save(os.path.join(train_dir, f'label_{idx:03d}.npy'), label_image)\n",
        "\n",
        "# Create processed scar image for validation\n",
        "for val_idx, idx in enumerate(range(train_size, dataset_size)): \n",
        "    # Access train set\n",
        "    os.chdir(image_path)\n",
        "    image = cv2.imread(train_files[idx])\n",
        "\n",
        "    # Access label set\n",
        "    os.chdir(label_path)\n",
        "    label_image = cv2.imread(train_label_files[idx])\n",
        "\n",
        "    # Equalize histogram used by LAB and BGR color space for make enhanced image \n",
        "    lab_image = cv2.cvtColor(image, cv2.COLOR_BGR2LAB)\n",
        "    l_image, a_image, b_image = cv2.split(lab_image)\n",
        "\n",
        "    l_image = cv2.equalizeHist(l_image)\n",
        "    a_clahe = cv2.createCLAHE(clipLimit=2.0, tileGridSize=(2, 2))\n",
        "    b_clahe = cv2.createCLAHE(clipLimit=2.0, tileGridSize=(16, 16))\n",
        "    a_image = a_clahe.apply(a_image)\n",
        "    b_image = b_clahe.apply(b_image)\n",
        "\n",
        "    lab_image = cv2.merge((l_image, a_image, b_image))\n",
        "    enhanced_image = cv2.cvtColor(lab_image, cv2.COLOR_LAB2BGR)\n",
        "    blue_image, green_image, red_image = cv2.split(enhanced_image)\n",
        "\n",
        "    green_clahe = cv2.createCLAHE(clipLimit=2.0, tileGridSize=(2, 2))\n",
        "    green_image = green_clahe.apply(green_image)\n",
        "\n",
        "    # Save normalized image\n",
        "    # val_image는 흑백 이미지라 1채널에 각 픽셀값들도 0~255로 정규화 되어있다.\n",
        "    cv2.imwrite(os.path.join(val_dir, f'scar_{val_idx:03d}.png'), green_image)\n",
        "    cv2.imwrite(os.path.join(val_dir, f'label_{val_idx:03d}.png'), label_image)\n",
        "    #np.save(os.path.join(val_dir, f'scar_{val_idx:03d}.npy'), val_image)\n",
        "    #np.save(os.path.join(val_dir, f'label_{val_idx:03d}.npy'), label_image)"
      ],
      "metadata": {
        "id": "yljPDLtm0zuo"
      },
      "execution_count": null,
      "outputs": []
    },
    {
      "cell_type": "markdown",
      "source": [
        "### Process test dataset"
      ],
      "metadata": {
        "id": "AU5G6MgG25A0"
      }
    },
    {
      "cell_type": "code",
      "source": [
        "image_path = MODEL_PATH + RAW_TEST_SET_PATH + IMAGES_PATH\n",
        "label_path = MODEL_PATH + RAW_TEST_SET_PATH + LABELS_PATH\n",
        "\n",
        "# Load raw train images\n",
        "os.chdir(image_path)\n",
        "test_files = os.listdir(image_path)\n",
        "test_files.sort()\n",
        "\n",
        "# Load raw label images\n",
        "os.chdir(label_path)\n",
        "test_label_files = os.listdir(label_path)\n",
        "test_label_files.sort()\n",
        "\n",
        "# Create processed scar image for train\n",
        "for idx in range(len(test_files)): \n",
        "    # Access train set\n",
        "    os.chdir(image_path)\n",
        "    image = cv2.imread(test_files[idx])\n",
        "\n",
        "    # Access label set\n",
        "    os.chdir(label_path)\n",
        "    label_image = cv2.imread(test_label_files[idx])\n",
        "\n",
        "    # Equalize histogram used by LAB and BGR color space for make enhanced image \n",
        "    lab_image = cv2.cvtColor(image, cv2.COLOR_BGR2LAB)\n",
        "    l_image, a_image, b_image = cv2.split(lab_image)\n",
        "\n",
        "    l_image = cv2.equalizeHist(l_image)\n",
        "    a_clahe = cv2.createCLAHE(clipLimit=2.0, tileGridSize=(2, 2))\n",
        "    b_clahe = cv2.createCLAHE(clipLimit=2.0, tileGridSize=(16, 16))\n",
        "    a_image = a_clahe.apply(a_image)\n",
        "    b_image = b_clahe.apply(b_image)\n",
        "\n",
        "    lab_image = cv2.merge((l_image, a_image, b_image))\n",
        "    enhanced_image = cv2.cvtColor(lab_image, cv2.COLOR_LAB2BGR)\n",
        "    blue_image, green_image, red_image = cv2.split(enhanced_image)\n",
        "\n",
        "    green_clahe = cv2.createCLAHE(clipLimit=2.0, tileGridSize=(2, 2))\n",
        "    green_image = green_clahe.apply(green_image)\n",
        "\n",
        "    # Save normalized image\n",
        "    # val_image는 흑백 이미지라 1채널에 각 픽셀값들도 0~255로 정규화 되어있다.\n",
        "    cv2.imwrite(os.path.join(test_dir, f'scar_{idx:03d}.png'), green_image)\n",
        "    cv2.imwrite(os.path.join(test_dir, f'label_{idx:03d}.png'), label_image)\n",
        "    #np.save(os.path.join(test_dir, f'scar_{idx:03d}.npy'), val_image)\n",
        "    #np.save(os.path.join(test_dir, f'label_{idx:03d}.npy'), label_image)"
      ],
      "metadata": {
        "id": "hIU5Cv4f2wGo"
      },
      "execution_count": null,
      "outputs": []
    },
    {
      "cell_type": "markdown",
      "source": [
        "## 2\n",
        "\n",
        "*적용사항*\n",
        "1. Color space를 이용한 영상처리\n",
        "2. 불필요 Black boundary 제거\n",
        "3. Resize to 572*572 (UNet 아키텍쳐 입력 이미지 사이즈)"
      ],
      "metadata": {
        "id": "Bhgq7zplcjoh"
      }
    },
    {
      "cell_type": "markdown",
      "source": [
        "### Process train dataset"
      ],
      "metadata": {
        "id": "SIYSvyIfg37Q"
      }
    },
    {
      "cell_type": "code",
      "source": [
        "# Set load image dir path\n",
        "image_path = MODEL_PATH + RAW_TRAIN_SET_PATH + IMAGES_PATH\n",
        "label_path = MODEL_PATH + RAW_TRAIN_SET_PATH + LABELS_PATH\n",
        "\n",
        "# Load raw train images\n",
        "train_files = os.listdir(image_path)\n",
        "train_files.sort()\n",
        "\n",
        "# Load raw label images\n",
        "train_label_files = os.listdir(label_path)\n",
        "train_label_files.sort()\n",
        "\n",
        "# Divide train:val = 7:3\n",
        "dataset_size = len(train_files)\n",
        "train_size = int(dataset_size * 0.7)\n",
        "\n",
        "# Create processed scar image for train\n",
        "for idx in range(train_size): \n",
        "    # Access train set\n",
        "    os.chdir(image_path)\n",
        "    image = cv2.imread(train_files[idx])\n",
        "\n",
        "    # Access label set\n",
        "    os.chdir(label_path)\n",
        "    label_image = cv2.imread(train_label_files[idx])\n",
        "\n",
        "    # Get grayscale image\n",
        "    gray_image = cv2.cvtColor(image, cv2.COLOR_BGR2GRAY)\n",
        "\n",
        "    # Cut black boundary on value image\n",
        "    contours, _ = cv2.findContours(gray_image, cv2.RETR_EXTERNAL, cv2.CHAIN_APPROX_NONE)\n",
        "    x, y, width, height = cv2.boundingRect(contours[0])\n",
        "\n",
        "    if width > height: height = width\n",
        "    else: width = height\n",
        "\n",
        "    image = image[y:y+height, x:x+width]\n",
        "    label_image = label_image[y:y+height, x:x+width]\n",
        "\n",
        "    # Equalize histogram used by LAB and BGR color space for make enhanced image \n",
        "    lab_image = cv2.cvtColor(image, cv2.COLOR_BGR2LAB)\n",
        "    l_image, a_image, b_image = cv2.split(lab_image)\n",
        "\n",
        "    l_image = cv2.equalizeHist(l_image)\n",
        "    a_clahe = cv2.createCLAHE(clipLimit=2.0, tileGridSize=(2, 2))\n",
        "    b_clahe = cv2.createCLAHE(clipLimit=2.0, tileGridSize=(16, 16))\n",
        "    a_image = a_clahe.apply(a_image)\n",
        "    b_image = b_clahe.apply(b_image)\n",
        "\n",
        "    lab_image = cv2.merge((l_image, a_image, b_image))\n",
        "    enhanced_image = cv2.cvtColor(lab_image, cv2.COLOR_LAB2BGR)\n",
        "    blue_image, green_image, red_image = cv2.split(enhanced_image)\n",
        "\n",
        "    green_clahe = cv2.createCLAHE(clipLimit=2.0, tileGridSize=(2, 2))\n",
        "    green_image = green_clahe.apply(green_image)\n",
        "\n",
        "    # Resize image\n",
        "    green_image = resize_image(green_image)\n",
        "    label_image = resize_image(label_image)\n",
        "\n",
        "    # Save normalized image\n",
        "    # val_image는 흑백 이미지라 1채널에 각 픽셀값들도 0~255로 정규화 되어있다.\n",
        "    cv2.imwrite(os.path.join(train_dir, f'scar_{idx:03d}.png'), green_image)\n",
        "    cv2.imwrite(os.path.join(train_dir, f'label_{idx:03d}.png'), label_image)\n",
        "    #np.save(os.path.join(train_dir, f'scar_{idx:03d}.npy'), val_image)\n",
        "    #np.save(os.path.join(train_dir, f'label_{idx:03d}.npy'), label_image)\n",
        "\n",
        "# Create processed scar image for validation\n",
        "for val_idx, idx in enumerate(range(train_size, dataset_size)): \n",
        "    # Access train set\n",
        "    os.chdir(image_path)\n",
        "    image = cv2.imread(train_files[idx])\n",
        "\n",
        "    # Access label set\n",
        "    os.chdir(label_path)\n",
        "    label_image = cv2.imread(train_label_files[idx])\n",
        "\n",
        "    # Get grayscale image\n",
        "    gray_image = cv2.cvtColor(image, cv2.COLOR_BGR2GRAY)\n",
        "\n",
        "    # Cut black boundary on value image\n",
        "    contours, _ = cv2.findContours(gray_image, cv2.RETR_EXTERNAL, cv2.CHAIN_APPROX_NONE)\n",
        "    x, y, width, height = cv2.boundingRect(contours[0])\n",
        "\n",
        "    if width > height: height = width\n",
        "    else: width = height\n",
        "\n",
        "    image = image[y:y+height, x:x+width]\n",
        "    label_image = label_image[y:y+height, x:x+width]\n",
        "\n",
        "    # Equalize histogram used by LAB and BGR color space for make enhanced image \n",
        "    lab_image = cv2.cvtColor(image, cv2.COLOR_BGR2LAB)\n",
        "    l_image, a_image, b_image = cv2.split(lab_image)\n",
        "\n",
        "    l_image = cv2.equalizeHist(l_image)\n",
        "    a_clahe = cv2.createCLAHE(clipLimit=2.0, tileGridSize=(2, 2))\n",
        "    b_clahe = cv2.createCLAHE(clipLimit=2.0, tileGridSize=(16, 16))\n",
        "    a_image = a_clahe.apply(a_image)\n",
        "    b_image = b_clahe.apply(b_image)\n",
        "\n",
        "    lab_image = cv2.merge((l_image, a_image, b_image))\n",
        "    enhanced_image = cv2.cvtColor(lab_image, cv2.COLOR_LAB2BGR)\n",
        "    blue_image, green_image, red_image = cv2.split(enhanced_image)\n",
        "\n",
        "    green_clahe = cv2.createCLAHE(clipLimit=2.0, tileGridSize=(2, 2))\n",
        "    green_image = green_clahe.apply(green_image)\n",
        "\n",
        "    # Resize image\n",
        "    green_image = resize_image(green_image)\n",
        "    label_image = resize_image(label_image)\n",
        "\n",
        "    # Save normalized image\n",
        "    # val_image는 흑백 이미지라 1채널에 각 픽셀값들도 0~255로 정규화 되어있다.\n",
        "    cv2.imwrite(os.path.join(val_dir, f'scar_{val_idx:03d}.png'), green_image)\n",
        "    cv2.imwrite(os.path.join(val_dir, f'label_{val_idx:03d}.png'), label_image)\n",
        "    #np.save(os.path.join(val_dir, f'scar_{val_idx:03d}.npy'), val_image)\n",
        "    #np.save(os.path.join(val_dir, f'label_{val_idx:03d}.npy'), label_image)"
      ],
      "metadata": {
        "id": "ecWAX5SGg4Hw"
      },
      "execution_count": null,
      "outputs": []
    },
    {
      "cell_type": "markdown",
      "source": [
        "### Process test dataset"
      ],
      "metadata": {
        "id": "S9izC65bg7vV"
      }
    },
    {
      "cell_type": "code",
      "source": [
        "image_path = MODEL_PATH + RAW_TEST_SET_PATH + IMAGES_PATH\n",
        "label_path = MODEL_PATH + RAW_TEST_SET_PATH + LABELS_PATH\n",
        "\n",
        "# Load raw train images\n",
        "os.chdir(image_path)\n",
        "test_files = os.listdir(image_path)\n",
        "test_files.sort()\n",
        "\n",
        "# Load raw label images\n",
        "os.chdir(label_path)\n",
        "test_label_files = os.listdir(label_path)\n",
        "test_label_files.sort()\n",
        "\n",
        "# Create processed scar image for train\n",
        "for idx in range(len(test_files)): \n",
        "    # Access train set\n",
        "    os.chdir(image_path)\n",
        "    image = cv2.imread(test_files[idx])\n",
        "\n",
        "    # Access label set\n",
        "    os.chdir(label_path)\n",
        "    label_image = cv2.imread(test_label_files[idx])\n",
        "\n",
        "    # Get grayscale image\n",
        "    gray_image = cv2.cvtColor(image, cv2.COLOR_BGR2GRAY)\n",
        "\n",
        "    # Cut black boundary on value image\n",
        "    contours, _ = cv2.findContours(gray_image, cv2.RETR_EXTERNAL, cv2.CHAIN_APPROX_NONE)\n",
        "    x, y, width, height = cv2.boundingRect(contours[0])\n",
        "\n",
        "    if width > height: height = width\n",
        "    else: width = height\n",
        "\n",
        "    image = image[y:y+height, x:x+width]\n",
        "    label_image = label_image[y:y+height, x:x+width]\n",
        "\n",
        "    # Equalize histogram used by LAB and BGR color space for make enhanced image \n",
        "    lab_image = cv2.cvtColor(image, cv2.COLOR_BGR2LAB)\n",
        "    l_image, a_image, b_image = cv2.split(lab_image)\n",
        "\n",
        "    l_image = cv2.equalizeHist(l_image)\n",
        "    a_clahe = cv2.createCLAHE(clipLimit=2.0, tileGridSize=(2, 2))\n",
        "    b_clahe = cv2.createCLAHE(clipLimit=2.0, tileGridSize=(16, 16))\n",
        "    a_image = a_clahe.apply(a_image)\n",
        "    b_image = b_clahe.apply(b_image)\n",
        "\n",
        "    lab_image = cv2.merge((l_image, a_image, b_image))\n",
        "    enhanced_image = cv2.cvtColor(lab_image, cv2.COLOR_LAB2BGR)\n",
        "    blue_image, green_image, red_image = cv2.split(enhanced_image)\n",
        "\n",
        "    green_clahe = cv2.createCLAHE(clipLimit=2.0, tileGridSize=(2, 2))\n",
        "    green_image = green_clahe.apply(green_image)\n",
        "\n",
        "    # Resize image\n",
        "    green_image = resize_image(green_image)\n",
        "    label_image = resize_image(label_image)\n",
        "\n",
        "    # Save normalized image\n",
        "    # val_image는 흑백 이미지라 1채널에 각 픽셀값들도 0~255로 정규화 되어있다.\n",
        "    cv2.imwrite(os.path.join(test_dir, f'scar_{idx:03d}.png'), green_image)\n",
        "    cv2.imwrite(os.path.join(test_dir, f'label_{idx:03d}.png'), label_image)\n",
        "    #np.save(os.path.join(test_dir, f'scar_{idx:03d}.npy'), val_image)\n",
        "    #np.save(os.path.join(test_dir, f'label_{idx:03d}.npy'), label_image)"
      ],
      "metadata": {
        "id": "-BnUptGVg72g"
      },
      "execution_count": null,
      "outputs": []
    },
    {
      "cell_type": "markdown",
      "source": [
        "## 3\n",
        "\n",
        "*적용사항*\n",
        "1. Color space를 이용한 영상처리\n",
        "2. 불필요 Black boundary 제거\n",
        "3. Bordering(cv2.copymakeborder) to 572*572 (UNet 아키텍쳐 입력 이미지 사이즈)"
      ],
      "metadata": {
        "id": "BWxTg5BSop6e"
      }
    },
    {
      "cell_type": "markdown",
      "source": [
        "## 4\n",
        "\n",
        "*적용사항*\n",
        "1. Black boundary를 제외한 부분을 sliding window를 이용한 down sampling\n",
        "2. Label image 포함 비율이 20% 이하인 down sample은 제거\n",
        "3. Color space를 이용한 영상처리\n",
        "4. 기존 Label과 매칭"
      ],
      "metadata": {
        "id": "VJx-IIozclOy"
      }
    },
    {
      "cell_type": "markdown",
      "source": [
        "## 5\n",
        "\n",
        "*적용사항*\n",
        "1. Black boundary를 제외한 부분을 sliding window를 이용한 down sampling\n",
        "2. Label image 포함 비율이 20% 이하인 down sample은 제거\n",
        "3. Color space를 이용한 영상처리\n",
        "4. Super-resolution\n",
        "5. 기존 Label과 매칭"
      ],
      "metadata": {
        "id": "TO76-gvwcnQk"
      }
    }
  ]
}