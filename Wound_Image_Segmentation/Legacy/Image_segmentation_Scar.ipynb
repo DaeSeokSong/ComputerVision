{
  "nbformat": 4,
  "nbformat_minor": 0,
  "metadata": {
    "colab": {
      "provenance": [],
      "collapsed_sections": [],
      "authorship_tag": "ABX9TyMxIXrg6qmhie2w1gHRa/jP",
      "include_colab_link": true
    },
    "kernelspec": {
      "name": "python3",
      "display_name": "Python 3"
    },
    "language_info": {
      "name": "python"
    }
  },
  "cells": [
    {
      "cell_type": "markdown",
      "metadata": {
        "id": "view-in-github",
        "colab_type": "text"
      },
      "source": [
        "<a href=\"https://colab.research.google.com/github/DaeSeokSong/image-processing/blob/feature%2FUnet-scar/Image_segmentation_Scar.ipynb\" target=\"_parent\"><img src=\"https://colab.research.google.com/assets/colab-badge.svg\" alt=\"Open In Colab\"/></a>"
      ]
    },
    {
      "cell_type": "markdown",
      "source": [
        "# Reference\n",
        "\n",
        "* [K-Means](https://blog.naver.com/PostView.nhn?isHttpsRedirect=true&blogId=samsjang&logNo=221017639342&categoryNo=0&parentCategoryNo=0&viewDate=&currentPage=1&postListTopCurrentPage=1&from=postView)\n",
        "\n",
        "---\n",
        "\n",
        "## Dataset\n",
        "* [Wound dataset](https://github.com/uwm-bigdata/wound-segmentation)\n",
        "\n",
        "---"
      ],
      "metadata": {
        "id": "rZlnRL-v5aZH"
      }
    },
    {
      "cell_type": "markdown",
      "source": [
        "# Set development enviroment"
      ],
      "metadata": {
        "id": "zHGq0ofU1eE2"
      }
    },
    {
      "cell_type": "markdown",
      "source": [
        "## Import"
      ],
      "metadata": {
        "id": "D3e6Sq_o1ViV"
      }
    },
    {
      "cell_type": "markdown",
      "source": [
        "### Library"
      ],
      "metadata": {
        "id": "MZQL2ZE01WlL"
      }
    },
    {
      "cell_type": "code",
      "source": [
        "# Image processing\n",
        "import cv2\n",
        "import numpy as np\n",
        "import pandas as pd\n",
        "import matplotlib.pyplot as plt\n",
        "\n",
        "from sklearn.cluster import KMeans\n",
        "from sklearn.preprocessing import MinMaxScaler\n",
        "\n",
        "from google.colab.patches import cv2_imshow\n",
        "from google.colab import output\n",
        "\n",
        "# ETC\n",
        "import os\n",
        "import time"
      ],
      "metadata": {
        "id": "8GSotFnj1ZbU"
      },
      "execution_count": 1,
      "outputs": []
    },
    {
      "cell_type": "markdown",
      "source": [
        "### Google drive mount"
      ],
      "metadata": {
        "id": "nQHFD-cW1ZkD"
      }
    },
    {
      "cell_type": "code",
      "source": [
        "from google.colab import drive\n",
        "drive.mount('/content/gdrive')"
      ],
      "metadata": {
        "colab": {
          "base_uri": "https://localhost:8080/"
        },
        "id": "nvHe0lbz1bb_",
        "outputId": "608ae285-0d2a-42e2-cc7a-fe18f030c912"
      },
      "execution_count": 2,
      "outputs": [
        {
          "output_type": "stream",
          "name": "stdout",
          "text": [
            "Mounted at /content/gdrive\n"
          ]
        }
      ]
    },
    {
      "cell_type": "code",
      "source": [
        "%cd /content/gdrive/MyDrive/Models/GAN_Scar\n",
        "!ls -al"
      ],
      "metadata": {
        "colab": {
          "base_uri": "https://localhost:8080/"
        },
        "id": "WOKyEj3d1cg_",
        "outputId": "ad7ab59a-0b80-4a98-ed93-c3f778c19e2c"
      },
      "execution_count": 3,
      "outputs": [
        {
          "output_type": "stream",
          "name": "stdout",
          "text": [
            "/content/gdrive/MyDrive/Models/GAN_Scar\n",
            "total 144\n",
            "drwx------ 2 root root  4096 Aug 16 08:53  Dataset\n",
            "-rw------- 1 root root  6325 Sep  1 08:52  Image_segmentation-Scar.ipynb\n",
            "drwx------ 2 root root  4096 Aug 17 05:49  Log\n",
            "-rw------- 1 root root 34986 Aug 29 15:15  Processor_PerformanceTester-Scar.ipynb\n",
            "drwx------ 2 root root  4096 Aug 16 08:39  Raw_Dataset\n",
            "-rw------- 1 root root 16647 Aug 29 15:29  RawDataset_Processor-Scar.ipynb\n",
            "drwx------ 2 root root  4096 Aug 23 14:47  result\n",
            "-rw------- 1 root root 39995 Aug 15 11:40 'UNet architecture.PNG'\n",
            "-rw------- 1 root root 30877 Sep  1 08:53  Unet-Scar.ipynb\n"
          ]
        }
      ]
    },
    {
      "cell_type": "markdown",
      "source": [
        "# Image segmentation"
      ],
      "metadata": {
        "id": "kHxhDGcV2nep"
      }
    },
    {
      "cell_type": "markdown",
      "source": [
        "## Global variable"
      ],
      "metadata": {
        "id": "0OCd-mG12610"
      }
    },
    {
      "cell_type": "code",
      "source": [
        "MODEL_PATH = \"/content/gdrive/MyDrive/Models/GAN_Scar\"\n",
        "\n",
        "TRAIN_SET_PATH = \"/Dataset/train\"\n",
        "TEST_SET_PATH = \"/Dataset/test\"\n",
        "\n",
        "IMAGES_PATH = '/images'\n",
        "LABELS_PATH = '/labels'\n",
        "\n",
        "NORM_INPUT_SIZE = 480"
      ],
      "metadata": {
        "id": "RhLIeiDv29cL"
      },
      "execution_count": 4,
      "outputs": []
    },
    {
      "cell_type": "markdown",
      "source": [
        "## Function"
      ],
      "metadata": {
        "id": "2P4wIaUd2tIE"
      }
    },
    {
      "cell_type": "code",
      "source": [
        "def imshow_waitkey_enter(image):\n",
        "    cv2_imshow(image)\n",
        "\n",
        "    time.sleep(0.5)\n",
        "    input(\"Please press the Enter key to proceed\\n\")\n",
        "    output.clear()\n",
        "\n",
        "    pass\n",
        "\n",
        "def elbow(x):\n",
        "    sse = []\n",
        "\n",
        "    for i in range(1, 11):\n",
        "        km = KMeans(n_clusters=i, init='k-means++', random_state=0)\n",
        "        km.fit(x)\n",
        "        sse.append(km.inertia_)\n",
        "\n",
        "    print(\"sse = \", sse)\n",
        "    plt.plot(range(1, 11), sse, marker='o')\n",
        "    plt.xlabel('Cluster number')\n",
        "    plt.ylabel('SSE')\n",
        "    plt.show()\n",
        "\n",
        "    time.sleep(0.5)\n",
        "    input(\"Please press the Enter key to proceed\\n\")\n",
        "    output.clear()"
      ],
      "metadata": {
        "id": "mzCapZej2uC0"
      },
      "execution_count": 15,
      "outputs": []
    },
    {
      "cell_type": "markdown",
      "source": [
        "## Run"
      ],
      "metadata": {
        "id": "lMu6gVnM2uJe"
      }
    },
    {
      "cell_type": "code",
      "source": [
        "# Set load image dir path\n",
        "image_path = MODEL_PATH + TRAIN_SET_PATH\n",
        "\n",
        "# Load images\n",
        "lst_data = os.listdir(image_path)\n",
        "\n",
        "lst_scar = [f for f in lst_data if f.startswith('scar')]\n",
        "lst_label = [f for f in lst_data if f.startswith('label')]\n",
        "\n",
        "lst_scar.sort()\n",
        "lst_label.sort()\n",
        "\n",
        "train_images = []\n",
        "for f in lst_scar: \n",
        "    train_images.append(cv2.imread(os.path.join(image_path, f), \n",
        "                                   cv2.IMREAD_GRAYSCALE))\n",
        "\n",
        "label_images = []\n",
        "for f in lst_label: \n",
        "    label_images.append(cv2.imread(os.path.join(image_path, f), \n",
        "                                   cv2.IMREAD_GRAYSCALE))\n",
        "\n",
        "Dataset = [(x, label_images[idx]) for idx, x in enumerate(train_images)]"
      ],
      "metadata": {
        "id": "h2u7yNw64yAX"
      },
      "execution_count": 10,
      "outputs": []
    },
    {
      "cell_type": "code",
      "source": [
        "# Preprocess image\n",
        "for image, label in Dataset:\n",
        "    # Resize image\n",
        "    imageW = image.shape[0]\n",
        "    imageH = image.shape[1]\n",
        "\n",
        "    resizeRatioW = imageW / NORM_INPUT_SIZE\n",
        "    resizeRatioH = imageH / NORM_INPUT_SIZE\n",
        "\n",
        "    image = cv2.resize(image, \n",
        "                       (int(imageW / resizeRatioW), int(imageH / resizeRatioH)), \n",
        "                       interpolation=cv2.INTER_CUBIC\n",
        "                       )\n",
        "    label = cv2.resize(label, \n",
        "                       (int(imageW / resizeRatioW), int(imageH / resizeRatioH)), \n",
        "                       interpolation=cv2.INTER_CUBIC\n",
        "                       )\n",
        "\n",
        "    # Save original image\n",
        "    origin_image = image.copy()\n",
        "\n",
        "    \"\"\"\n",
        "    # Get HSV image\n",
        "    hsv_image = cv2.cvtColor(image, cv2.COLOR_BGR2HSV)\n",
        "    hue_image, sat_image, val_image = cv2.split(hsv_image)\n",
        "\n",
        "    # Get grayscale image\n",
        "    gray_image = cv2.cvtColor(image, cv2.COLOR_BGR2GRAY)\n",
        "\n",
        "    # Threshold\n",
        "    _, ths_image = cv2.threshold(gray_image, \n",
        "                                 200, \n",
        "                                 255, \n",
        "                                 cv2.THRESH_OTSU + cv2.THRESH_BINARY_INV)\n",
        "    \"\"\"\n",
        "\n",
        "    # Optimizing k parameters with Elbow method\n",
        "    print(image.shape)\n",
        "    elbow(image)\n",
        "\n",
        "    \"\"\"\n",
        "    # Clustering use K-means\n",
        "    cluster_data = val_image.reshape((-1, 3)).astype(np.float32)\n",
        "    k = 4\n",
        "    # 최대 10번 반복하고 1픽셀 이하로 움직이면 종료\n",
        "    criteria = (cv2.TERM_CRITERIA_EPS|cv2.TERM_CRITERIA_MAX_ITER, 10, 1.0)\n",
        "    ret, c_label, center = cv2.kmeans(cluster_data, \n",
        "                                    k, \n",
        "                                    None, \n",
        "                                    criteria,\n",
        "                                    10,\n",
        "                                    cv2.KMEANS_RANDOM_CENTERS)\n",
        "    \n",
        "    center = np.uint8(center)\n",
        "    dst = center[c_label.flatten()]\n",
        "    dst = dst.reshape((val_image.shape))\n",
        "\n",
        "    cv2_imshow(image)\n",
        "    cv2_imshow(label)\n",
        "    imshow_waitkey_enter(dst)\n",
        "    \"\"\""
      ],
      "metadata": {
        "id": "pY_WFRwg2-X8",
        "colab": {
          "base_uri": "https://localhost:8080/",
          "height": 746
        },
        "outputId": "5e7f8e53-1940-4ce6-fdea-b4cbe9195fcc"
      },
      "execution_count": 16,
      "outputs": [
        {
          "output_type": "stream",
          "name": "stdout",
          "text": [
            "(480, 480)\n",
            "sse =  [95440399.36874977, 23988731.79429961, 17531852.48564903, 14352958.03631208, 12384650.411573706, 10989775.90104811, 9910719.33784465, 8973745.859393995, 8184520.753064152, 7427807.475543152]\n"
          ]
        },
        {
          "output_type": "display_data",
          "data": {
            "text/plain": [
              "<Figure size 432x288 with 1 Axes>"
            ],
            "image/png": "[encoded data removed]"
          },
          "metadata": {
            "needs_background": "light"
          }
        },
        {
          "output_type": "error",
          "ename": "KeyboardInterrupt",
          "evalue": "ignored",
          "traceback": [
            "\u001b[0;31m---------------------------------------------------------------------------\u001b[0m",
            "\u001b[0;31mKeyboardInterrupt\u001b[0m                         Traceback (most recent call last)",
            "\u001b[0;32m<ipython-input-16-cc755eb1a4cd>\u001b[0m in \u001b[0;36m<module>\u001b[0;34m\u001b[0m\n\u001b[1;32m     37\u001b[0m     \u001b[0;31m# Optimizing k parameters with Elbow method\u001b[0m\u001b[0;34m\u001b[0m\u001b[0;34m\u001b[0m\u001b[0;34m\u001b[0m\u001b[0m\n\u001b[1;32m     38\u001b[0m     \u001b[0mprint\u001b[0m\u001b[0;34m(\u001b[0m\u001b[0mimage\u001b[0m\u001b[0;34m.\u001b[0m\u001b[0mshape\u001b[0m\u001b[0;34m)\u001b[0m\u001b[0;34m\u001b[0m\u001b[0;34m\u001b[0m\u001b[0m\n\u001b[0;32m---> 39\u001b[0;31m     \u001b[0melbow\u001b[0m\u001b[0;34m(\u001b[0m\u001b[0mimage\u001b[0m\u001b[0;34m)\u001b[0m\u001b[0;34m\u001b[0m\u001b[0;34m\u001b[0m\u001b[0m\n\u001b[0m\u001b[1;32m     40\u001b[0m \u001b[0;34m\u001b[0m\u001b[0m\n\u001b[1;32m     41\u001b[0m     \"\"\"\n",
            "\u001b[0;32m<ipython-input-15-98ac403018ca>\u001b[0m in \u001b[0;36melbow\u001b[0;34m(x)\u001b[0m\n\u001b[1;32m     23\u001b[0m \u001b[0;34m\u001b[0m\u001b[0m\n\u001b[1;32m     24\u001b[0m     \u001b[0mtime\u001b[0m\u001b[0;34m.\u001b[0m\u001b[0msleep\u001b[0m\u001b[0;34m(\u001b[0m\u001b[0;36m0.5\u001b[0m\u001b[0;34m)\u001b[0m\u001b[0;34m\u001b[0m\u001b[0;34m\u001b[0m\u001b[0m\n\u001b[0;32m---> 25\u001b[0;31m     \u001b[0minput\u001b[0m\u001b[0;34m(\u001b[0m\u001b[0;34m\"Please press the Enter key to proceed\\n\"\u001b[0m\u001b[0;34m)\u001b[0m\u001b[0;34m\u001b[0m\u001b[0;34m\u001b[0m\u001b[0m\n\u001b[0m\u001b[1;32m     26\u001b[0m     \u001b[0moutput\u001b[0m\u001b[0;34m.\u001b[0m\u001b[0mclear\u001b[0m\u001b[0;34m(\u001b[0m\u001b[0;34m)\u001b[0m\u001b[0;34m\u001b[0m\u001b[0;34m\u001b[0m\u001b[0m\n",
            "\u001b[0;32m/usr/local/lib/python3.7/dist-packages/ipykernel/kernelbase.py\u001b[0m in \u001b[0;36mraw_input\u001b[0;34m(self, prompt)\u001b[0m\n\u001b[1;32m    861\u001b[0m             \u001b[0mself\u001b[0m\u001b[0;34m.\u001b[0m\u001b[0m_parent_ident\u001b[0m\u001b[0;34m,\u001b[0m\u001b[0;34m\u001b[0m\u001b[0;34m\u001b[0m\u001b[0m\n\u001b[1;32m    862\u001b[0m             \u001b[0mself\u001b[0m\u001b[0;34m.\u001b[0m\u001b[0m_parent_header\u001b[0m\u001b[0;34m,\u001b[0m\u001b[0;34m\u001b[0m\u001b[0;34m\u001b[0m\u001b[0m\n\u001b[0;32m--> 863\u001b[0;31m             \u001b[0mpassword\u001b[0m\u001b[0;34m=\u001b[0m\u001b[0;32mFalse\u001b[0m\u001b[0;34m,\u001b[0m\u001b[0;34m\u001b[0m\u001b[0;34m\u001b[0m\u001b[0m\n\u001b[0m\u001b[1;32m    864\u001b[0m         )\n\u001b[1;32m    865\u001b[0m \u001b[0;34m\u001b[0m\u001b[0m\n",
            "\u001b[0;32m/usr/local/lib/python3.7/dist-packages/ipykernel/kernelbase.py\u001b[0m in \u001b[0;36m_input_request\u001b[0;34m(self, prompt, ident, parent, password)\u001b[0m\n\u001b[1;32m    902\u001b[0m             \u001b[0;32mexcept\u001b[0m \u001b[0mKeyboardInterrupt\u001b[0m\u001b[0;34m:\u001b[0m\u001b[0;34m\u001b[0m\u001b[0;34m\u001b[0m\u001b[0m\n\u001b[1;32m    903\u001b[0m                 \u001b[0;31m# re-raise KeyboardInterrupt, to truncate traceback\u001b[0m\u001b[0;34m\u001b[0m\u001b[0;34m\u001b[0m\u001b[0;34m\u001b[0m\u001b[0m\n\u001b[0;32m--> 904\u001b[0;31m                 \u001b[0;32mraise\u001b[0m \u001b[0mKeyboardInterrupt\u001b[0m\u001b[0;34m(\u001b[0m\u001b[0;34m\"Interrupted by user\"\u001b[0m\u001b[0;34m)\u001b[0m \u001b[0;32mfrom\u001b[0m \u001b[0;32mNone\u001b[0m\u001b[0;34m\u001b[0m\u001b[0;34m\u001b[0m\u001b[0m\n\u001b[0m\u001b[1;32m    905\u001b[0m             \u001b[0;32mexcept\u001b[0m \u001b[0mException\u001b[0m \u001b[0;32mas\u001b[0m \u001b[0me\u001b[0m\u001b[0;34m:\u001b[0m\u001b[0;34m\u001b[0m\u001b[0;34m\u001b[0m\u001b[0m\n\u001b[1;32m    906\u001b[0m                 \u001b[0mself\u001b[0m\u001b[0;34m.\u001b[0m\u001b[0mlog\u001b[0m\u001b[0;34m.\u001b[0m\u001b[0mwarning\u001b[0m\u001b[0;34m(\u001b[0m\u001b[0;34m\"Invalid Message:\"\u001b[0m\u001b[0;34m,\u001b[0m \u001b[0mexc_info\u001b[0m\u001b[0;34m=\u001b[0m\u001b[0;32mTrue\u001b[0m\u001b[0;34m)\u001b[0m\u001b[0;34m\u001b[0m\u001b[0;34m\u001b[0m\u001b[0m\n",
            "\u001b[0;31mKeyboardInterrupt\u001b[0m: Interrupted by user"
          ]
        }
      ]
    }
  ]
}
