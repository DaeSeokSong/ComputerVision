{
  "cells": [
    {
      "cell_type": "markdown",
      "metadata": {
        "id": "view-in-github",
        "colab_type": "text"
      },
      "source": [
        "<a href=\"https://colab.research.google.com/github/DaeSeokSong/image-processing/blob/feature%2FUnet-scar/Unet_Scar.ipynb\" target=\"_parent\"><img src=\"https://colab.research.google.com/assets/colab-badge.svg\" alt=\"Open In Colab\"/></a>"
      ]
    },
    {
      "cell_type": "markdown",
      "metadata": {
        "id": "xuju0_8jyNnP"
      },
      "source": [
        "# **※ Precautions**\n",
        "\n",
        "1.   RawDataset_Processor 실행 후 UNet 실행 추가\n",
        "\n",
        "\n"
      ]
    },
    {
      "cell_type": "markdown",
      "metadata": {
        "id": "_GY1e9FPDm6F"
      },
      "source": [
        "# **Next step**\n",
        "\n",
        "1. [lesion-segmentation-on-isic-2018 1위 성능 모델](https://github.com/marinbenc/medical-polar-training/blob/main/models/unet_plain.py)과 성능 비교\n",
        "> Dice score 차이가 크면 커스텀 모델 클래스 구조를, 해당 1위 모델과 동일하게 배치\n",
        "\n",
        "2. UNet++ 참조하여 모델 개선\n",
        "3. ResUNet++ 참조하여 모델 개선"
      ]
    },
    {
      "cell_type": "markdown",
      "metadata": {
        "id": "ETKXZy_BpRBn"
      },
      "source": [
        "# ***Reference***\n",
        "\n",
        "* *Paper*\n",
        ">   [U-net](https://paperswithcode.com/paper/u-net-convolutional-networks-for-biomedical)\n",
        ">\n",
        "> 기존 CNN은 Single classification task에 사용되었지만,\n",
        "> \n",
        "> biomedical image processing 분야에서는 한 이미지 내의 모든 pixel을 classification 하는 Semantic segmentation task가 중요하게 사용되었다.\n",
        ">\n",
        ">  sliding window 방식을 사용하는 CNN 구조와 달리 검증된 patch는 넘기기 때문에 보다 빠른 처리가 가능한 구조이다.\n",
        "> \n",
        "> 적은 양의 데이터로도 dataset argumentation을 통해 잘 학습시킬 수 있다.\n",
        ">\n",
        ">   * [U-net++](https://paperswithcode.com/paper/unet-a-nested-u-net-architecture-for-medical)\n",
        ">   * [ResUNet++](https://paperswithcode.com/paper/resunet-an-advanced-architecture-for-medical)\n",
        "\n",
        "<br>\n",
        "\n",
        "* *Lecture*\n",
        "> * [UNet architecture by pytorch](https://89douner.tistory.com/300)\n",
        "\n"
      ]
    },
    {
      "cell_type": "markdown",
      "metadata": {
        "id": "lgbE_AiY8yV7"
      },
      "source": [
        "# **1.Development enviroment**"
      ]
    },
    {
      "cell_type": "markdown",
      "metadata": {
        "id": "NVNq8Y-A89nl"
      },
      "source": [
        "## *1) Import*"
      ]
    },
    {
      "cell_type": "markdown",
      "metadata": {
        "id": "_vKiIgjo9Dro"
      },
      "source": [
        "### 1-1) Library"
      ]
    },
    {
      "cell_type": "code",
      "execution_count": null,
      "metadata": {
        "id": "ZsXjyWownhef"
      },
      "outputs": [],
      "source": [
        "# U-net\n",
        "import torch\n",
        "import torch.nn as nn\n",
        "import torch.nn.functional as F\n",
        "\n",
        "from torch.utils.data import Dataset, DataLoader\n",
        "from torch.utils.tensorboard import SummaryWriter\n",
        "\n",
        "from torchvision import transforms\n",
        "\n",
        "# Image processing\n",
        "import cv2\n",
        "import numpy as np\n",
        "import pickle as pl\n",
        "import matplotlib.pyplot as plt\n",
        "\n",
        "from google.colab.patches import cv2_imshow\n",
        "from google.colab import output\n",
        "\n",
        "from PIL import Image\n",
        "\n",
        "# ETC\n",
        "import os\n",
        "import time\n",
        "import math"
      ]
    },
    {
      "cell_type": "markdown",
      "metadata": {
        "id": "Pcj_F7KZ9FEV"
      },
      "source": [
        "### 1-2) Mount google drive"
      ]
    },
    {
      "cell_type": "code",
      "execution_count": null,
      "metadata": {
        "colab": {
          "base_uri": "https://localhost:8080/"
        },
        "id": "I1I8TPjO9INs",
        "outputId": "98074fdc-7eab-45da-e42d-8fbd3769303b"
      },
      "outputs": [
        {
          "output_type": "stream",
          "name": "stdout",
          "text": [
            "Mounted at /content/gdrive\n"
          ]
        }
      ],
      "source": [
        "from google.colab import drive\n",
        "drive.mount('/content/gdrive')"
      ]
    },
    {
      "cell_type": "code",
      "execution_count": null,
      "metadata": {
        "colab": {
          "base_uri": "https://localhost:8080/"
        },
        "id": "QrRWaQd09Joq",
        "outputId": "a6ee9224-9ff9-49f3-ef3b-f993fa75b2ae"
      },
      "outputs": [
        {
          "output_type": "stream",
          "name": "stdout",
          "text": [
            "/content/gdrive/MyDrive/Models/GAN_Scar\n",
            "total 10687\n",
            "drwx------ 2 root root     4096 Aug 16 08:53  Dataset\n",
            "-rw------- 1 root root    22891 Sep  1 12:04  Image_segmentation-Scar.ipynb\n",
            "drwx------ 2 root root     4096 Aug 17 05:49  Log\n",
            "-rw------- 1 root root    49019 Sep  2 04:06  Processor_PerformanceTester-Scar.ipynb\n",
            "drwx------ 2 root root     4096 Aug 16 08:39  Raw_Dataset\n",
            "-rw------- 1 root root    16167 Sep  1 12:13  RawDataset_Processor-Scar.ipynb\n",
            "drwx------ 2 root root     4096 Aug 23 14:47  result\n",
            "-rw------- 1 root root    39995 Aug 15 11:40 'UNet architecture.PNG'\n",
            "-rw------- 1 root root 10797119 Sep  2 15:28  Unet-Scar.ipynb\n"
          ]
        }
      ],
      "source": [
        "%cd /content/gdrive/MyDrive/Models/GAN_Scar\n",
        "!ls -al"
      ]
    },
    {
      "cell_type": "markdown",
      "metadata": {
        "id": "UGNH-Msw9Lyx"
      },
      "source": [
        "# **2.Train U-Net**"
      ]
    },
    {
      "cell_type": "markdown",
      "metadata": {
        "id": "6V4ug77i9eo6"
      },
      "source": [
        "## *1) Grobal variable*"
      ]
    },
    {
      "cell_type": "code",
      "execution_count": null,
      "metadata": {
        "id": "IfyygS-p9gzc"
      },
      "outputs": [],
      "source": [
        "# Path\n",
        "MODEL_PATH = \"/content/gdrive/MyDrive/Models/GAN_Scar\"\n",
        "\n",
        "DATASET_PATH = \"/Dataset\"\n",
        "LOG_PATH = \"/Log\"\n",
        "CHECK_POINT_PATH = '/CheckPoint'\n",
        "\n",
        "TRAIN_PATH = \"/train\"\n",
        "VAL_PATH = \"/val\"\n",
        "TEST_PATH = \"/test\"\n",
        "\n",
        "# Train hyperparameter\n",
        "LR = 1e-3\n",
        "BATCH_SIZE = 8 # batch size 8 초과부터는 Colab gpu ram 용량 초과로 원활한 학습 불가\n",
        "EPOCHS = 20 # basic == 20\n",
        "\n",
        "\"\"\"\n",
        "GPU 사용이 가능하면 cuda 사용\n",
        "아니면 CPU를 이용하여 학습\n",
        "\"\"\"\n",
        "DEVICE = torch.device('cuda' if torch.cuda.is_available() else 'cpu')"
      ]
    },
    {
      "cell_type": "markdown",
      "metadata": {
        "id": "EtN2YVKdzEo0"
      },
      "source": [
        "## *2) Funtion*"
      ]
    },
    {
      "cell_type": "markdown",
      "metadata": {
        "id": "uNXX7XmzGTEa"
      },
      "source": [
        "### 2-1) Save learned model"
      ]
    },
    {
      "cell_type": "code",
      "execution_count": null,
      "metadata": {
        "id": "QUyzWtquGTPj"
      },
      "outputs": [],
      "source": [
        "\"\"\"\n",
        "[Pytorch model save tutorial]\n",
        ">> https://tutorials.pytorch.kr/beginner/saving_loading_models.html\n",
        "\"\"\"\n",
        "\n",
        "# Save network\n",
        "def save(ckpt_dir, net, opt, epoch):\n",
        "    if not os.path.exists(ckpt_dir):\n",
        "        os.makedirs(ckpt_dir)\n",
        "\n",
        "    torch.save({'net':net.state_dict(), 'opt':opt.state_dict()}, \n",
        "               ckpt_dir + '/model_epoch_%d.pt' %(epoch))\n",
        "\n",
        "# Load network\n",
        "def load(ckpt_dir, net, opt):\n",
        "    if not os.path.exists(ckpt_dir): # 저장된 네트워크가 없다면 인풋을 그대로 반환\n",
        "        return net, opt\n",
        "\n",
        "    lst_ckpt = os.listdir(ckpt_dir) # ckpt_dir 아래 있는 모든 파일 리스트를 받아온다\n",
        "    if len(lst_ckpt) == 0 : # 저장된 모델이 없으면 인풋 그대로 반환\n",
        "        return net, opt\n",
        "\n",
        "    lst_ckpt.sort(key = lambda f : int(f.split('.')[0].split('_')[-1]))\n",
        "    dict_model = torch.load('%s/%s' % (ckpt_dir, lst_ckpt[-1]))\n",
        "\n",
        "    net.load_state_dict(dict_model['net'])\n",
        "    opt.load_state_dict(dict_model['opt'])\n",
        "\n",
        "    return net, opt"
      ]
    },
    {
      "cell_type": "markdown",
      "metadata": {
        "id": "XrmqoZrZzGz5"
      },
      "source": [
        "### 2-2) Convenience func"
      ]
    },
    {
      "cell_type": "code",
      "execution_count": null,
      "metadata": {
        "id": "x7qxDCQnzGcm"
      },
      "outputs": [],
      "source": [
        "def imshow_waitkey_enter(image):\n",
        "    cv2_imshow(image)\n",
        "\n",
        "    time.sleep(0.5)\n",
        "    \n",
        "    input(\"Please press the Enter key to proceed\\n\")\n",
        "    output.clear()\n",
        "\n",
        "    pass"
      ]
    },
    {
      "cell_type": "markdown",
      "metadata": {
        "id": "Vin2caAL9b0r"
      },
      "source": [
        "## *3) Class*"
      ]
    },
    {
      "cell_type": "markdown",
      "metadata": {
        "id": "l7ttKi5fU8L6"
      },
      "source": [
        "### 3-1) Custom U-Net"
      ]
    },
    {
      "cell_type": "markdown",
      "metadata": {
        "id": "zj6HFu6eUeuw"
      },
      "source": [
        "#### 3-1-1) Architecture"
      ]
    },
    {
      "cell_type": "markdown",
      "metadata": {
        "id": "pYEyOHCoTsJV"
      },
      "source": [
        "**마지막 Output 채널 2 → 1 변경**\n",
        "> Binary classification\n",
        "\n",
        "<img src = \"https://drive.google.com/uc?id=14CzAAaKv5v7pVfvugBRbD1xI4IuhmoyT\"  width = 640>"
      ]
    },
    {
      "cell_type": "markdown",
      "source": [
        "#### 3-1-2) Build network"
      ],
      "metadata": {
        "id": "8uDSF-htR_88"
      }
    },
    {
      "cell_type": "markdown",
      "metadata": {
        "id": "-ERI7fzVOrkQ"
      },
      "source": [
        "##### 3-1-2-1) Custom"
      ]
    },
    {
      "cell_type": "code",
      "execution_count": null,
      "metadata": {
        "id": "JUWtaQKf9dJ0"
      },
      "outputs": [],
      "source": [
        "# torch.nn의 Module 클래스를 상속한, 커스텀 UNet 클래스\n",
        "class UNet(nn.Module):\n",
        "    def __init__(self):\n",
        "        super(UNet, self).__init__()\n",
        "\n",
        "        # kernel size, stride, padding, bias는 거의 고정 >> predefine\n",
        "        def ConvBatchReLU_2d(in_ch, out_ch, k_size=3, stride=1, padding=0, bias=True):\n",
        "            layers = []\n",
        "\n",
        "            # Add Conv layer\n",
        "            layers += [nn.Conv2d(in_channels=in_ch,\n",
        "                                 out_channels=out_ch,\n",
        "                                 kernel_size=k_size,\n",
        "                                 stride=stride,\n",
        "                                 padding=padding,\n",
        "                                 bias=bias\n",
        "                                 )]\n",
        "\n",
        "            # Add batch normalization layer\n",
        "            layers += [nn.BatchNorm2d(num_features=out_ch)]\n",
        "\n",
        "            # Add ReLU\n",
        "            layers += [nn.ReLU()]\n",
        "\n",
        "            # Define conv, ReLU step in contracting path\n",
        "            CBR = nn.Sequential(*layers)\n",
        "\n",
        "            return CBR\n",
        "\n",
        "        \"\"\"\n",
        "        [Contracting path]\n",
        "        >> 입력 이미지의 context 포착이 목적\n",
        "        \"\"\"\n",
        "        # enc == encoder / n_m == n번째 stage(step)의 m번째 레이어\n",
        "        self.enc1_1 = ConvBatchReLU_2d(in_ch=1, out_ch=64)\n",
        "        self.enc1_2 = ConvBatchReLU_2d(in_ch=64, out_ch=64)\n",
        "\n",
        "        self.pool1 = nn.MaxPool2d(kernel_size=2)\n",
        "\n",
        "        self.enc2_1 = ConvBatchReLU_2d(in_ch=64, out_ch=128)\n",
        "        self.enc2_2 = ConvBatchReLU_2d(in_ch=128, out_ch=128)\n",
        "\n",
        "        self.pool2 = nn.MaxPool2d(kernel_size=2)\n",
        "\n",
        "        self.enc3_1 = ConvBatchReLU_2d(in_ch=128, out_ch=256)\n",
        "        self.enc3_2 = ConvBatchReLU_2d(in_ch=256, out_ch=256)\n",
        "\n",
        "        self.pool3 = nn.MaxPool2d(kernel_size=2)\n",
        "\n",
        "        self.enc4_1 = ConvBatchReLU_2d(in_ch=256, out_ch=512)\n",
        "        self.enc4_2 = ConvBatchReLU_2d(in_ch=512, out_ch=512)\n",
        "\n",
        "        self.pool4 = nn.MaxPool2d(kernel_size=2)\n",
        "\n",
        "        self.enc5_1 = ConvBatchReLU_2d(in_ch=512, out_ch=1024)\n",
        "\n",
        "        \"\"\"\n",
        "        [Expansive path]\n",
        "        >> 세밀한 Localization을 위한 높은 차원의 채널을 갖는 Upsampling\n",
        "        >> 얕은 레이어의 특집 맵을 결합\n",
        "        \"\"\"\n",
        "        # dec == decoder\n",
        "        self.dec5_1 = ConvBatchReLU_2d(in_ch=1024, out_ch=512)\n",
        "\n",
        "        # up-conv 레이어는 채널을 복원을 해야하기 때문에 kernel size를\n",
        "        # 대칭되는 MaxPool layer의 kernel size와 같도록 설정한다.\n",
        "        self.unpool4 = nn.ConvTranspose2d(in_channels=512,\n",
        "                                          out_channels=512,\n",
        "                                          kernel_size=2,\n",
        "                                          stride=2,\n",
        "                                          padding=0,\n",
        "                                          bias=True)\n",
        "        \n",
        "        # input channel은 up-conv와 대칭되는 enc, 두 레이어에서\n",
        "        # 같은 크기의 채널로 오기 때문에 대칭 enc 레이어보다 input이 두 배 많다.\n",
        "        self.dec4_2 = ConvBatchReLU_2d(in_ch=2 * 512, out_ch=512)\n",
        "        self.dec4_1 = ConvBatchReLU_2d(in_ch=512, out_ch=256)\n",
        "\n",
        "        self.unpool3 = nn.ConvTranspose2d(in_channels=256,\n",
        "                                          out_channels=256,\n",
        "                                          kernel_size=2,\n",
        "                                          stride=2,\n",
        "                                          padding=0,\n",
        "                                          bias=True)\n",
        "        \n",
        "        self.dec3_2 = ConvBatchReLU_2d(in_ch=2 * 256, out_ch=256)\n",
        "        self.dec3_1 = ConvBatchReLU_2d(in_ch=256, out_ch=128)\n",
        "\n",
        "        self.unpool2 = nn.ConvTranspose2d(in_channels=128,\n",
        "                                          out_channels=128,\n",
        "                                          kernel_size=2,\n",
        "                                          stride=2,\n",
        "                                          padding=0,\n",
        "                                          bias=True)\n",
        "        \n",
        "        self.dec2_2 = ConvBatchReLU_2d(in_ch=2 * 128, out_ch=128)\n",
        "        self.dec2_1 = ConvBatchReLU_2d(in_ch=128, out_ch=64)\n",
        "\n",
        "        self.unpool1 = nn.ConvTranspose2d(in_channels=64,\n",
        "                                          out_channels=64,\n",
        "                                          kernel_size=2,\n",
        "                                          stride=2,\n",
        "                                          padding=0,\n",
        "                                          bias=True)\n",
        "        \n",
        "        self.dec1_2 = ConvBatchReLU_2d(in_ch=2 * 64, out_ch=64)\n",
        "        self.dec1_1 = ConvBatchReLU_2d(in_ch=64, out_ch=64)\n",
        "\n",
        "        # conv 1*1, N class for segmentation\n",
        "        # 이미지 상에서는 out_channels 2라 되어있으나 결과 도출을 위해 1로 설정\n",
        "        self.conv = nn.Conv2d(in_channels=64,\n",
        "                              out_channels=1,\n",
        "                              kernel_size=1,\n",
        "                              stride=1,\n",
        "                              padding=0,\n",
        "                              bias=True)\n",
        "\n",
        "    \"\"\"\n",
        "        [Skip connection]\n",
        "        >> Semantic segmentation에서는 위치정보가 중요하기에\n",
        "        >> 이에 대한 소실 방지 차원에서 이전 연산했던 값을 더해준다.\n",
        "\n",
        "        >> copy and crop\n",
        "        >> encoding 데이터가 더 크므로 복사(copy)후 잘라준다(crop)\n",
        "    \"\"\"\n",
        "    def copy_and_crop(self, enc, unpool):\n",
        "        cpy_enc =  enc.clone().cpu().detach().numpy()\n",
        "        diff_y = cpy_enc.shape[2] - unpool.shape[2] # height\n",
        "        diff_x = cpy_enc.shape[3] - unpool.shape[3] # width\n",
        "\n",
        "        top = int(diff_y / 2)\n",
        "        left = int(diff_x / 2)\n",
        "        height = int(cpy_enc.shape[2] - top)\n",
        "        width = int(cpy_enc.shape[3] - left)\n",
        "\n",
        "        if height - top > unpool.shape[2]:\n",
        "            height = height - ((height - top) - unpool.shape[2])\n",
        "        elif height - top < unpool.shape[2]:\n",
        "            height = height + (unpool.shape[2] - (height - top))\n",
        "\n",
        "        if width - left > unpool.shape[3]:\n",
        "            width = width - ((width - left) - unpool.shape[3])\n",
        "        elif width - left < unpool.shape[3]:\n",
        "            width = width + (unpool.shape[3] - (width - left))\n",
        "\n",
        "        cpy_enc = cpy_enc[:, :, top:height, left:width]\n",
        "        cpy_enc = torch.Tensor(cpy_enc).to(DEVICE)\n",
        "\n",
        "        #print(\"encoding size = \", cpy_enc.shape)\n",
        "        #print(\"unpooling size = \", unpool.shape)\n",
        "\n",
        "        return torch.cat((unpool, cpy_enc), dim=1)\n",
        "\n",
        "    # x == input_image\n",
        "    def forward(self, x):\n",
        "        #print(\"Input size = \", x.shape)\n",
        "        input_width, input_height = x.shape[2], x.shape[3]\n",
        "\n",
        "        # encoder part\n",
        "        enc1_1 = self.enc1_1(x)\n",
        "        enc1_2 = self.enc1_2(enc1_1)\n",
        "        pool1 = self.pool1(enc1_2)\n",
        "        #print(\"enc1_1 size = \", enc1_1.shape)\n",
        "        #print(\"enc1_2 size = \", enc1_2.shape)\n",
        "        #print(\"pool1 size = \", pool1.shape)\n",
        "\n",
        "        enc2_1 = self.enc2_1(pool1)\n",
        "        enc2_2 = self.enc2_2(enc2_1)\n",
        "        pool2 = self.pool2(enc2_2)\n",
        "        #print(\"enc2_1 size = \", enc2_1.shape)\n",
        "        #print(\"enc2_2 size = \", enc2_2.shape)\n",
        "        #print(\"pool2 size = \", pool2.shape)\n",
        "        \n",
        "        enc3_1 = self.enc3_1(pool2)\n",
        "        enc3_2 = self.enc3_2(enc3_1)\n",
        "        pool3 = self.pool3(enc3_2)\n",
        "        #print(\"enc3_1 size = \", enc3_1.shape)\n",
        "        #print(\"enc3_2 size = \", enc3_2.shape)\n",
        "        #print(\"pool3 size = \", pool3.shape)\n",
        "\n",
        "        enc4_1 = self.enc4_1(pool3)\n",
        "        enc4_2 = self.enc4_2(enc4_1)\n",
        "        pool4 = self.pool4(enc4_2)\n",
        "        #print(\"enc4_1 size = \", enc4_1.shape)\n",
        "        #print(\"enc4_2 size = \", enc4_2.shape)\n",
        "        #print(\"pool4 size = \", pool4.shape)\n",
        "\n",
        "        enc5_1 = self.enc5_1(pool4)\n",
        "        #print(\"enc5_1 size = \", enc5_1.shape)\n",
        "\n",
        "        # decoder part\n",
        "        dec5_1 = self.dec5_1(enc5_1)\n",
        "        #print(\"dec5_1 size = \", dec5_1.shape)\n",
        "\n",
        "        unpool4 = self.unpool4(dec5_1)\n",
        "        #print(\"unpool4 size = \", unpool4.shape)\n",
        "\n",
        "        cat4 = self.copy_and_crop(enc4_2, unpool4)\n",
        "        dec4_2 = self.dec4_2(cat4)\n",
        "        dec4_1 = self.dec4_1(dec4_2)\n",
        "        #print(\"cat4 size = \", cat4.shape)\n",
        "        #print(\"dec4_2 size = \", dec4_2.shape)\n",
        "        #print(\"dec4_1 size = \", dec4_1.shape)\n",
        "\n",
        "        unpool3 = self.unpool3(dec4_1)\n",
        "        #print(\"unpool3 size = \", unpool3.shape)\n",
        "\n",
        "        cat3 = self.copy_and_crop(enc3_2, unpool3)\n",
        "        dec3_2 = self.dec3_2(cat3)\n",
        "        dec3_1 = self.dec3_1(dec3_2)\n",
        "        #print(\"cat3 size = \", cat3.shape)\n",
        "        #print(\"dec3_2 size = \", dec3_2.shape)\n",
        "        #print(\"dec3_1 size = \", dec3_1.shape)\n",
        "\n",
        "        unpool2 = self.unpool2(dec3_1)\n",
        "        #print(\"unpool2 size = \", unpool2.shape)\n",
        "\n",
        "        cat2 = self.copy_and_crop(enc2_2, unpool2)\n",
        "        dec2_2 = self.dec2_2(cat2)\n",
        "        dec2_1 = self.dec2_1(dec2_2)\n",
        "        #print(\"cat2 size = \", cat2.shape)\n",
        "        #print(\"dec2_2 size = \", dec2_2.shape)\n",
        "        #print(\"dec2_1 size = \", dec2_1.shape)\n",
        "\n",
        "        unpool1 = self.unpool1(dec2_1)\n",
        "        #print(\"unpool1 size = \", unpool1.shape)\n",
        "\n",
        "        cat1 = self.copy_and_crop(enc1_2, unpool1)\n",
        "        dec1_2 = self.dec1_2(cat1)\n",
        "        dec1_1 = self.dec1_1(dec1_2)\n",
        "        #print(\"cat1 size = \", cat1.shape)\n",
        "        #print(\"dec1_2 size = \", dec1_2.shape)\n",
        "        #print(\"dec1_1 size = \", dec1_1.shape)\n",
        "\n",
        "        output = torch.sigmoid(self.conv(dec1_1))\n",
        "        #print(\"Output size = \", output.shape)\n",
        "        #print(\"Output = \", output)\n",
        "\n",
        "        \"\"\"\n",
        "        output_width, output_height = x.shape[2], x.shape[3]\n",
        "\n",
        "        # [mirroring extrapolation]\n",
        "        # input(572*572)/output(388*388) 사이즈가 다르므로 output에 \n",
        "        # mirroring extrapolation 기법으로 missing context 부분을 채운다.\n",
        "\n",
        "        pad_width = int((input_width - output_width) / 2)\n",
        "        pad_height = int((input_height - output_height) / 2)\n",
        "        extrapolation = []\n",
        "        for image in x:\n",
        "            #image = nn.functional.pad(image, (pad_width, pad_width, pad_height, pad_height), 'reflect') # 이미지, (좌, 우, 상, 하), 방법\n",
        "            image = nn.functional.pad(image, (pad_width, pad_width, pad_height, pad_height), 'constant', 0)\n",
        "            extrapolation.append(image)\n",
        "\n",
        "        output = torch.stack(extrapolation, dim=0).to(DEVICE)\n",
        "        #print(\"Mirrored padding output size = \", output.shape)\n",
        "        #print(\"Constant padding output size = \", output.shape)\n",
        "        \"\"\"\n",
        "\n",
        "        return output"
      ]
    },
    {
      "cell_type": "markdown",
      "source": [
        "##### 3-1-2-2) Polar Res UNet++"
      ],
      "metadata": {
        "id": "mthffBM_Rnev"
      }
    },
    {
      "cell_type": "code",
      "source": [
        "class UNet(nn.Module):\n",
        "\n",
        "  def __init__(self, device, in_channels=3, out_channels=1, init_features=32):\n",
        "    super(UNet, self).__init__()\n",
        "    self.device = device\n",
        "    \n",
        "    features = init_features\n",
        "    self.encoder1 = UNet._block(in_channels, features, name=\"enc1\")\n",
        "    self.pool1 = nn.MaxPool2d(kernel_size=2, stride=2)\n",
        "    self.encoder2 = UNet._block(features, features * 2, name=\"enc2\")\n",
        "    self.pool2 = nn.MaxPool2d(kernel_size=2, stride=2)\n",
        "    self.encoder3 = UNet._block(features * 2, features * 4, name=\"enc3\")\n",
        "    self.pool3 = nn.MaxPool2d(kernel_size=2, stride=2)\n",
        "    self.encoder4 = UNet._block(features * 4, features * 8, name=\"enc4\")\n",
        "    self.pool4 = nn.MaxPool2d(kernel_size=2, stride=2)\n",
        "\n",
        "    self.bottleneck = UNet._block(features * 8, features * 16, name=\"bottleneck\")\n",
        "\n",
        "    self.upconv4 = nn.ConvTranspose2d(\n",
        "      features * 16, features * 8, kernel_size=2, stride=2\n",
        "    )\n",
        "    self.decoder4 = UNet._block((features * 8) * 2, features * 8, name=\"dec4\")\n",
        "    self.upconv3 = nn.ConvTranspose2d(\n",
        "      features * 8, features * 4, kernel_size=2, stride=2\n",
        "    )\n",
        "\n",
        "    self.decoder3 = UNet._block((features * 4) * 2, features * 4, name=\"dec3\")\n",
        "    self.upconv2 = nn.ConvTranspose2d(\n",
        "      features * 4, features * 2, kernel_size=2, stride=2\n",
        "    )\n",
        "    self.decoder2 = UNet._block((features * 2) * 2, features * 2, name=\"dec2\")\n",
        "    self.upconv1 = nn.ConvTranspose2d(\n",
        "      features * 2, features, kernel_size=2, stride=2\n",
        "    )\n",
        "    self.decoder1 = UNet._block(features * 2, features, name=\"dec1\")\n",
        "\n",
        "    self.conv = nn.Conv2d(\n",
        "      in_channels=features, out_channels=out_channels, kernel_size=1\n",
        "    )\n",
        "\n",
        "  def forward(self, x):\n",
        "    enc1 = self.encoder1(x)\n",
        "    enc2 = self.encoder2(self.pool1(enc1))\n",
        "    enc3 = self.encoder3(self.pool2(enc2))\n",
        "    enc4 = self.encoder4(self.pool3(enc3))\n",
        "\n",
        "    bottleneck = self.bottleneck(self.pool4(enc4))\n",
        "\n",
        "    dec4 = self.upconv4(bottleneck)\n",
        "    dec4 = torch.cat((dec4, enc4), dim=1)\n",
        "    dec4 = self.decoder4(dec4)\n",
        "    dec3 = self.upconv3(dec4)\n",
        "    dec3 = torch.cat((dec3, enc3), dim=1)\n",
        "    dec3 = self.decoder3(dec3)\n",
        "    dec2 = self.upconv2(dec3)\n",
        "    dec2 = torch.cat((dec2, enc2,), dim=1)\n",
        "    dec2 = self.decoder2(dec2)\n",
        "    dec1 = self.upconv1(dec2)\n",
        "    dec1 = torch.cat((dec1, enc1,), dim=1)\n",
        "    dec1 = self.decoder1(dec1)\n",
        "\n",
        "    return torch.sigmoid(self.conv(dec1))\n",
        "\n",
        "  @staticmethod\n",
        "  def _block(in_channels, features, name):\n",
        "    return nn.Sequential(\n",
        "      OrderedDict(\n",
        "        [\n",
        "          (\n",
        "            name + \"conv1\",\n",
        "            nn.Conv2d(\n",
        "              in_channels=in_channels,\n",
        "              out_channels=features,\n",
        "              kernel_size=3,\n",
        "              padding=1,\n",
        "              bias=False,\n",
        "            ),\n",
        "          ),\n",
        "          (name + \"norm1\", nn.BatchNorm2d(num_features=features)),\n",
        "          (name + \"relu1\", nn.ReLU(inplace=True)),\n",
        "          (\n",
        "            name + \"conv2\",\n",
        "            nn.Conv2d(\n",
        "              in_channels=features,\n",
        "              out_channels=features,\n",
        "              kernel_size=3,\n",
        "              padding=1,\n",
        "              bias=False,\n",
        "            ),\n",
        "          ),\n",
        "          (name + \"norm2\", nn.BatchNorm2d(num_features=features)),\n",
        "          (name + \"relu2\", nn.ReLU(inplace=True)),\n",
        "        ]\n",
        "      )\n",
        "    )"
      ],
      "metadata": {
        "id": "HrPeVhcmRoc8"
      },
      "execution_count": null,
      "outputs": []
    },
    {
      "cell_type": "markdown",
      "metadata": {
        "id": "KfV8NkvMTfgC"
      },
      "source": [
        "#### 3-1-3) Dice loss"
      ]
    },
    {
      "cell_type": "code",
      "execution_count": null,
      "metadata": {
        "id": "Ms3M3MlhTjGT"
      },
      "outputs": [],
      "source": [
        "\"\"\"\n",
        "Best dice score model of Lesion Segmentation on ISIC 2018\n",
        ">> Some of them, DiceLoss code\n",
        "\n",
        "https://github.com/marinbenc/medical-polar-training/blob/main/loss.py\n",
        "https://paperswithcode.com/paper/training-on-polar-image-transformations#code\n",
        "\"\"\"\n",
        "class DiceLoss(nn.Module):\n",
        "    def __init__(self):\n",
        "        super(DiceLoss, self).__init__()\n",
        "        self.smooth = 1.0\n",
        "\n",
        "    def forward(self, y_pred, y_true):\n",
        "        assert y_pred.size() == y_true.size()\n",
        "        dscs = torch.zeros(y_pred.shape[1])\n",
        "\n",
        "        for i in range(y_pred.shape[1]):\n",
        "          y_pred_ch = y_pred[:, i].contiguous().view(-1)\n",
        "          y_true_ch = y_true[:, i].contiguous().view(-1)\n",
        "\n",
        "          intersection = (y_pred_ch * y_true_ch).sum()\n",
        "\n",
        "          dscs[i] = (2. * intersection + self.smooth) / (y_pred_ch.sum() + y_true_ch.sum() + self.smooth)\n",
        "\n",
        "        # dice_score = 1.0 - dice_loss\n",
        "        return torch.mean(dscs)"
      ]
    },
    {
      "cell_type": "markdown",
      "metadata": {
        "id": "wxCDqnkVU_fm"
      },
      "source": [
        "### 3-2) Pytorch"
      ]
    },
    {
      "cell_type": "markdown",
      "metadata": {
        "id": "xkgZx5qbVJNx"
      },
      "source": [
        "#### 3-2-1) Dataset"
      ]
    },
    {
      "cell_type": "code",
      "execution_count": null,
      "metadata": {
        "id": "VqnUx025VKpg"
      },
      "outputs": [],
      "source": [
        "class ScarDataset(Dataset):\n",
        "    def __init__(self, data_dir, transform=None):\n",
        "        self.data_dir = data_dir\n",
        "        self.transform = transform\n",
        "\n",
        "        lst_data = os.listdir(self.data_dir)\n",
        "\n",
        "        lst_scar = [f for f in lst_data if f.startswith('scar')]\n",
        "        lst_label = [f for f in lst_data if f.startswith('label')]\n",
        "\n",
        "        lst_scar.sort()\n",
        "        lst_label.sort()\n",
        "\n",
        "        self.lst_scar = lst_scar\n",
        "        self.lst_label = lst_label\n",
        "\n",
        "    def __len__(self):\n",
        "        return len(self.lst_label)\n",
        "\n",
        "    def __getitem__(self, index):\n",
        "        scar = cv2.imread(os.path.join(self.data_dir, self.lst_scar[index]),\n",
        "                          cv2.IMREAD_GRAYSCALE)\n",
        "        label = cv2.imread(os.path.join(self.data_dir, self.lst_label[index]),\n",
        "                          cv2.IMREAD_GRAYSCALE)\n",
        "        #scar = np.load(os.path.join(self.data_dir, self.lst_scar[index]))\n",
        "        #label = np.load(os.path.join(self.data_dir, self.lst_label[index]))\n",
        "\n",
        "        # 정규화\n",
        "        scar = scar/255.0\n",
        "        label = label/255.0\n",
        "\n",
        "        if scar.ndim == 2:\n",
        "            scar = scar[:, :, np.newaxis]\n",
        "        if label.ndim == 2:\n",
        "            label = label[:, :, np.newaxis]\n",
        "\n",
        "        data = {'scar': scar, 'label': label}\n",
        "\n",
        "        if self.transform:\n",
        "            data = self.transform(data)\n",
        "\n",
        "        return data"
      ]
    },
    {
      "cell_type": "markdown",
      "metadata": {
        "id": "3Rv22BEuok0D"
      },
      "source": [
        "#### 3-2-2) Transform"
      ]
    },
    {
      "cell_type": "code",
      "execution_count": null,
      "metadata": {
        "id": "1FfoKGJZol9C"
      },
      "outputs": [],
      "source": [
        "class ToTensor(object):\n",
        "    def __call__(self, data):\n",
        "        scar, label = data['scar'], data['label']\n",
        "        scar = scar.transpose((2, 0, 1)).astype(np.float32)\n",
        "        label = label.transpose((2, 0, 1)).astype(np.float32)\n",
        "\n",
        "        data = {'scar': torch.from_numpy(scar), 'label': torch.from_numpy(label)}\n",
        "\n",
        "        return data\n",
        "\n",
        "# Dataset arugmentation\n",
        "class Normalization(object):\n",
        "    def __init__(self, mean=0.5, std=0.5):\n",
        "        self.mean = mean\n",
        "        self.std = std\n",
        "\n",
        "    def __call__(self, data):\n",
        "        scar, label = data['scar'], data['label']\n",
        "\n",
        "        scar = (scar - self.mean) / self.std\n",
        "        data = {'scar': scar, 'label': label}\n",
        "\n",
        "        return data\n",
        "\n",
        "class RandomFlip(object):\n",
        "    def __call__(self, data):\n",
        "        scar, label = data['scar'], data['label']\n",
        "\n",
        "        if np.random.rand() > 0.5:\n",
        "            scar = np.fliplr(scar)\n",
        "            label = np.fliplr(label)\n",
        "\n",
        "        if np.random.rand() > 0.5:\n",
        "            scar = np.flipud(scar)\n",
        "            label = np.flipud(label)\n",
        "\n",
        "        data = {'scar': scar, 'label': label}\n",
        "\n",
        "        return data"
      ]
    },
    {
      "cell_type": "markdown",
      "metadata": {
        "id": "OsjfNZrh9Z8C"
      },
      "source": [
        "## *4) Run*"
      ]
    },
    {
      "cell_type": "markdown",
      "metadata": {
        "id": "xu1q7hsx9p9y"
      },
      "source": [
        "### 4-1) Prepare dataset"
      ]
    },
    {
      "cell_type": "code",
      "execution_count": null,
      "metadata": {
        "id": "rxBFGyd89aps"
      },
      "outputs": [],
      "source": [
        "trans = transforms.Compose([Normalization(),\n",
        "                            RandomFlip(),\n",
        "                            ToTensor()])\n",
        "\n",
        "train_dataset = ScarDataset(data_dir=MODEL_PATH + DATASET_PATH + TRAIN_PATH, transform=trans)\n",
        "train_loader = DataLoader(train_dataset, batch_size=BATCH_SIZE, shuffle=True)\n",
        "\n",
        "val_dataset = ScarDataset(data_dir=MODEL_PATH + DATASET_PATH + VAL_PATH, transform=trans)\n",
        "val_loader = DataLoader(val_dataset, batch_size=BATCH_SIZE, shuffle=True)"
      ]
    },
    {
      "cell_type": "markdown",
      "metadata": {
        "id": "xbdBhwie-Q1X"
      },
      "source": [
        "### 4-2) Set variable about training"
      ]
    },
    {
      "cell_type": "code",
      "execution_count": null,
      "metadata": {
        "id": "Jcr35-y8-Rk4"
      },
      "outputs": [],
      "source": [
        "net = UNet().to(DEVICE)\n",
        "criterion = DiceLoss().to(DEVICE) # 이전 LOSS, criterion = nn.BCEWithLogitsLoss().to(DEVICE)\n",
        "\n",
        "# Set optimizer\n",
        "opt = torch.optim.Adam(net.parameters(), lr=LR)\n",
        "\n",
        "num_batch_train = len(train_dataset) / BATCH_SIZE\n",
        "num_batch_val = len(val_dataset) / BATCH_SIZE\n",
        "\n",
        "# Set lambda func\n",
        "fn_tonumpy = lambda x: x.to('cpu').detach().numpy().transpose(0, 2, 3, 1)\n",
        "fn_denorm = lambda x, mean, std: (x * std) + mean\n",
        "fn_class = lambda x: 1.0 * (x > 0.5)\n",
        "\n",
        "# Set SummaryWriter\n",
        "if not os.path.exists(MODEL_PATH + LOG_PATH + TRAIN_PATH):\n",
        "    os.makedirs(MODEL_PATH + LOG_PATH + TRAIN_PATH)\n",
        "\n",
        "if not os.path.exists(MODEL_PATH + LOG_PATH + VAL_PATH):\n",
        "    os.makedirs(MODEL_PATH + LOG_PATH + VAL_PATH)\n",
        "\n",
        "#writer_train = SummaryWriter(log_dir=MODEL_PATH + LOG_PATH + TRAIN_PATH)\n",
        "#writer_val = SummaryWriter(log_dir=MODEL_PATH + LOG_PATH + VAL_PATH)"
      ]
    },
    {
      "cell_type": "markdown",
      "metadata": {
        "id": "sd82Nd77WOuS"
      },
      "source": [
        "### 4-3) Train model"
      ]
    },
    {
      "cell_type": "code",
      "execution_count": null,
      "metadata": {
        "id": "WmmcOJqKWQzi"
      },
      "outputs": [],
      "source": [
        "# Load saved model\n",
        "ckpt_dir = MODEL_PATH + CHECK_POINT_PATH\n",
        "net, opt = load(ckpt_dir, net, opt)\n",
        "\n",
        "# Init epoch\n",
        "start_epoch = 0\n",
        "\n",
        "for epoch in range(start_epoch+1, EPOCHS+1):\n",
        "    net.train()\n",
        "    loss_arr = []\n",
        "\n",
        "    for batch, data in enumerate(train_loader, 1):\n",
        "        # Forward\n",
        "        scar = data['scar'].to(DEVICE)\n",
        "        label = data['label'].to(DEVICE)\n",
        "        output = net(scar)\n",
        "\n",
        "        # Backward\n",
        "        opt.zero_grad()\n",
        "\n",
        "        loss = criterion(output, label)\n",
        "        loss.backward()\n",
        "\n",
        "        opt.step()\n",
        "\n",
        "        # Save loss\n",
        "        loss_arr += [loss.item()]\n",
        "        print(\"=======================================================\")\n",
        "        print(f\"TRAIN || EPOCH {epoch :04d} | BATCH {batch : 04d} / {math.ceil(len(train_dataset)/BATCH_SIZE) : 04d} | LOSS {np.mean(loss_arr) : .4f}\")\n",
        "        print(\"=======================================================\")\n",
        "\n",
        "        # Save tensorboard\n",
        "        label = fn_tonumpy(label)\n",
        "        scar = fn_tonumpy(fn_denorm(scar, mean=0.5, std=0.5))\n",
        "        output = fn_tonumpy(fn_class(output))\n",
        "\n",
        "        #writer_train.add_image('label', label, num_batch_train * (epoch - 1) + batch, dataformats='NHWC')\n",
        "        #writer_train.add_image('scar', scar, num_batch_train * (epoch - 1) + batch, dataformats='NHWC')\n",
        "        #writer_train.add_image('output', output, num_batch_train * (epoch - 1) + batch, dataformats='NHWC')\n",
        "\n",
        "    #writer_train.add_scalar('loss', np.mean(loss_arr), epoch)\n",
        "\n",
        "    # Validate\n",
        "    with torch.no_grad():\n",
        "        net.eval()\n",
        "        loss_arr = []\n",
        "\n",
        "        for batch, data in enumerate(val_loader, 1):\n",
        "            # Forward\n",
        "            scar = data['scar'].to(DEVICE)\n",
        "            label = data['label'].to(DEVICE)\n",
        "            output = net(scar)\n",
        "\n",
        "            # Calc loss\n",
        "            loss = criterion(output, label)\n",
        "\n",
        "            # Save loss\n",
        "            loss_arr += [loss.item()]\n",
        "            print(\"=======================================================\")\n",
        "            print(f\"VALID || EPOCH {epoch :04d} | BATCH {batch : 04d} / {math.ceil(len(val_dataset)/BATCH_SIZE) : 04d} | DICE_LOSS {np.mean(loss_arr) : .4f}\")\n",
        "            print(\"=======================================================\")\n",
        "\n",
        "            # Save tensorboard\n",
        "            label = fn_tonumpy(label)\n",
        "            scar = fn_tonumpy(fn_denorm(scar, mean=0.5, std=0.5))\n",
        "            output = fn_tonumpy(fn_class(output))\n",
        "\n",
        "            #writer_val.add_image('label', label, num_batch_train * (epoch - 1) + batch, dataformats='NHWC')\n",
        "            #writer_val.add_image('scar', scar, num_batch_train * (epoch - 1) + batch, dataformats='NHWC')\n",
        "            #writer_val.add_image('output', output, num_batch_train * (epoch - 1) + batch, dataformats='NHWC')\n",
        "\n",
        "        #writer_val.add_scalar('loss', np.mean(loss_arr), epoch)\n",
        "\n",
        "    # Save network at epoch end\n",
        "    #save(ckpt_dir, net, opt, epoch)\n",
        "    print(\"ㅡㅡㅡㅡㅡㅡㅡㅡㅡㅡㅡㅡㅡㅡㅡㅡㅡㅡㅡㅡㅡㅡㅡㅡㅡㅡㅡㅡㅡㅡㅡㅡㅡㅡㅡㅡㅡㅡㅡㅡㅡㅡㅡㅡㅡㅡㅡㅡㅡㅡ\")\n",
        "\n",
        "#writer_train.close()\n",
        "#writer_val.close()"
      ]
    },
    {
      "cell_type": "markdown",
      "metadata": {
        "id": "F3K6fDHMoFvO"
      },
      "source": [
        "### 4-4) Show train/val result"
      ]
    },
    {
      "cell_type": "code",
      "execution_count": null,
      "metadata": {
        "colab": {
          "background_save": true
        },
        "id": "peSs_UQlDphx"
      },
      "outputs": [],
      "source": [
        "%load_ext tensorboard"
      ]
    },
    {
      "cell_type": "code",
      "execution_count": null,
      "metadata": {
        "id": "Lp0bTovcDKq_"
      },
      "outputs": [],
      "source": [
        "%tensorboard --logdir {MODEL_PATH + LOG_PATH}"
      ]
    },
    {
      "cell_type": "markdown",
      "metadata": {
        "id": "t6hYmUOcDLCh"
      },
      "source": [
        "### 4-5) Test benchmark"
      ]
    },
    {
      "cell_type": "code",
      "execution_count": null,
      "metadata": {
        "colab": {
          "background_save": true
        },
        "id": "OHrQHD0qDPH5"
      },
      "outputs": [],
      "source": [
        "# Set test dataset\n",
        "test_dataset = ScarDataset(data_dir=MODEL_PATH + DATASET_PATH + TEST_PATH, transform=trans)\n",
        "test_loader = DataLoader(test_dataset, batch_size=BATCH_SIZE, shuffle=True)\n",
        "\n",
        "num_batch_test = len(test_dataset) / BATCH_SIZE\n",
        "\n",
        "# Set loss\n",
        "test_criterion = DiceLoss().to(DEVICE)\n",
        "\n",
        "# Set SummaryWriter\n",
        "if not os.path.exists(MODEL_PATH + LOG_PATH + TEST_PATH):\n",
        "    os.makedirs(MODEL_PATH + LOG_PATH + TEST_PATH)\n",
        "\n",
        "writer_test = SummaryWriter(log_dir=MODEL_PATH + LOG_PATH + TEST_PATH)\n",
        "\n",
        "# Test\n",
        "with torch.no_grad():\n",
        "    net.eval()\n",
        "    loss_arr = []\n",
        "\n",
        "    for batch, data in enumerate(val_loader, 1):\n",
        "        # Forward\n",
        "        scar = data['scar'].to(DEVICE)\n",
        "        label = data['label'].to(DEVICE)\n",
        "        output = net(scar)\n",
        "\n",
        "        # Calc loss\n",
        "        loss = test_criterion(output, label)\n",
        "\n",
        "        # Save loss\n",
        "        loss_arr += [loss.item()]\n",
        "        print(\"=======================================================\")\n",
        "        print(f\"TEST || BATCH {batch : 04d} / {math.ceil(len(test_dataset)/BATCH_SIZE) : 04d} | DICE_LOSS {np.mean(loss_arr) : .4f}\")\n",
        "        print(\"=======================================================\")\n",
        "\n",
        "        # Save tensorboard\n",
        "        label = fn_tonumpy(label)\n",
        "        scar = fn_tonumpy(fn_denorm(scar, mean=0.5, std=0.5))\n",
        "        output = fn_tonumpy(fn_class(output))\n",
        "\n",
        "        writer_test.add_image('label', label, num_batch_train * (epoch - 1) + batch, dataformats='NHWC')\n",
        "        writer_test.add_image('scar', scar, num_batch_train * (epoch - 1) + batch, dataformats='NHWC')\n",
        "        writer_test.add_image('output', output, num_batch_train * (epoch - 1) + batch, dataformats='NHWC')\n",
        "\n",
        "    writer_test.add_scalar('loss', np.mean(loss_arr), epoch)\n",
        "    print(\"ㅡㅡㅡㅡㅡㅡㅡㅡㅡㅡㅡㅡㅡㅡㅡㅡㅡㅡㅡㅡㅡㅡㅡㅡㅡㅡㅡㅡㅡㅡㅡㅡㅡㅡㅡㅡㅡㅡㅡㅡㅡㅡㅡㅡㅡㅡㅡㅡㅡㅡ\")"
      ]
    },
    {
      "cell_type": "markdown",
      "metadata": {
        "id": "7ZYSI2VPOMYV"
      },
      "source": [
        "### 4-6) Show test result"
      ]
    },
    {
      "cell_type": "code",
      "execution_count": null,
      "metadata": {
        "colab": {
          "background_save": true
        },
        "id": "T7AOpup2ON6B"
      },
      "outputs": [],
      "source": [
        "%tensorboard --logdir {MODEL_PATH + LOG_PATH}"
      ]
    }
  ],
  "metadata": {
    "colab": {
      "collapsed_sections": [],
      "provenance": [],
      "toc_visible": true,
      "authorship_tag": "ABX9TyPeG6jQEb9LeOzTCzSMJN1v",
      "include_colab_link": true
    },
    "gpuClass": "standard",
    "kernelspec": {
      "display_name": "Python 3",
      "name": "python3"
    },
    "language_info": {
      "name": "python"
    }
  },
  "nbformat": 4,
  "nbformat_minor": 0
}