{
  "nbformat": 4,
  "nbformat_minor": 0,
  "metadata": {
    "colab": {
      "name": "Unet-Scar.ipynb",
      "provenance": [],
      "collapsed_sections": [],
      "toc_visible": true,
      "authorship_tag": "ABX9TyPgkSaS2jf0qng+JG0Hh64H",
      "include_colab_link": true
    },
    "kernelspec": {
      "name": "python3",
      "display_name": "Python 3"
    },
    "language_info": {
      "name": "python"
    }
  },
  "cells": [
    {
      "cell_type": "markdown",
      "metadata": {
        "id": "view-in-github",
        "colab_type": "text"
      },
      "source": [
        "<a href=\"https://colab.research.google.com/github/DaeSeokSong/image-processing/blob/feature%2FUnet-scar/Unet_Scar.ipynb\" target=\"_parent\"><img src=\"https://colab.research.google.com/assets/colab-badge.svg\" alt=\"Open In Colab\"/></a>"
      ]
    },
    {
      "cell_type": "markdown",
      "source": [
        "# Reference\n",
        "\n",
        "* *Paper*\n",
        ">   [U-net](https://paperswithcode.com/paper/u-net-convolutional-networks-for-biomedical)\n",
        ">   * [U-net++](https://paperswithcode.com/paper/unet-a-nested-u-net-architecture-for-medical)\n",
        ">   * [ResUNet++](https://paperswithcode.com/paper/resunet-an-advanced-architecture-for-medical)"
      ],
      "metadata": {
        "id": "ETKXZy_BpRBn"
      }
    },
    {
      "cell_type": "markdown",
      "source": [
        "# Development enviroment"
      ],
      "metadata": {
        "id": "lgbE_AiY8yV7"
      }
    },
    {
      "cell_type": "markdown",
      "source": [
        "## Install"
      ],
      "metadata": {
        "id": "p8rkwQq387p1"
      }
    },
    {
      "cell_type": "code",
      "source": [
        ""
      ],
      "metadata": {
        "id": "9aC7MFT289Uf"
      },
      "execution_count": null,
      "outputs": []
    },
    {
      "cell_type": "markdown",
      "source": [
        "## Import"
      ],
      "metadata": {
        "id": "NVNq8Y-A89nl"
      }
    },
    {
      "cell_type": "markdown",
      "source": [
        "### Library"
      ],
      "metadata": {
        "id": "_vKiIgjo9Dro"
      }
    },
    {
      "cell_type": "code",
      "execution_count": 10,
      "metadata": {
        "id": "ZsXjyWownhef"
      },
      "outputs": [],
      "source": [
        "# U-net\n",
        "import torch\n",
        "import torch.nn as nn\n",
        "\n",
        "from torch.utils.data import DataLoader\n",
        "from torch.utils.tensorboard import SummaryWriter\n",
        "\n",
        "from torchvision import transforms, datasets\n",
        "\n",
        "# Image processing\n",
        "import cv2\n",
        "import numpy as np\n",
        "import pandas as pd\n",
        "import matplotlib.pyplot as plt\n",
        "\n",
        "from google.colab.patches import cv2_imshow\n",
        "from google.colab import output\n",
        "\n",
        "# ETC\n",
        "import os\n",
        "import time\n",
        "\n",
        "from PIL import Image"
      ]
    },
    {
      "cell_type": "markdown",
      "source": [
        "### Mount google drive"
      ],
      "metadata": {
        "id": "Pcj_F7KZ9FEV"
      }
    },
    {
      "cell_type": "code",
      "source": [
        "from google.colab import drive\n",
        "drive.mount('/content/gdrive')"
      ],
      "metadata": {
        "id": "I1I8TPjO9INs"
      },
      "execution_count": null,
      "outputs": []
    },
    {
      "cell_type": "code",
      "source": [
        "%cd /content/gdrive/MyDrive/Models/GAN_Scar\n",
        "!ls -al"
      ],
      "metadata": {
        "id": "QrRWaQd09Joq"
      },
      "execution_count": null,
      "outputs": []
    },
    {
      "cell_type": "markdown",
      "source": [
        "# Image segmentation Modeling"
      ],
      "metadata": {
        "id": "UGNH-Msw9Lyx"
      }
    },
    {
      "cell_type": "markdown",
      "source": [
        "## Grobal variable"
      ],
      "metadata": {
        "id": "6V4ug77i9eo6"
      }
    },
    {
      "cell_type": "code",
      "source": [
        "# Path\n",
        "MODEL_PATH = \"/content/gdrive/MyDrive/Models/GAN_Scar\"\n",
        "\n",
        "TRAIN_SET_PATH = \"/Dataset/train\"\n",
        "TEST_SET_PATH = \"/Dataset/test\"\n",
        "\n",
        "IMAGES_PATH = '/images'\n",
        "LABELS_PATH = '/labels'\n",
        "\n",
        "# Train hyperparameter\n",
        "LR = 1e-3\n",
        "BATCH_SIZE = 4\n",
        "EPOCH = 100\n",
        "\n",
        "\"\"\"\n",
        "GPU 사용이 가능하면 cuda 사용\n",
        "아니면 CPU를 이용하여 학습\n",
        "\"\"\"\n",
        "DEVICE = torch.device('cuda' if torch.cuda.is_available() else 'cpu')"
      ],
      "metadata": {
        "id": "IfyygS-p9gzc"
      },
      "execution_count": 9,
      "outputs": []
    },
    {
      "cell_type": "markdown",
      "source": [
        "## Class"
      ],
      "metadata": {
        "id": "Vin2caAL9b0r"
      }
    },
    {
      "cell_type": "code",
      "source": [
        "# torch.nn의 Module 클래스를 상속한, 커스텀 UNet 클래스\n",
        "class UNet(nn.Module):\n",
        "    def __init__(self):\n",
        "        super(UNet, self).__init__()"
      ],
      "metadata": {
        "id": "JUWtaQKf9dJ0"
      },
      "execution_count": null,
      "outputs": []
    },
    {
      "cell_type": "markdown",
      "source": [
        "## Funtion"
      ],
      "metadata": {
        "id": "VKaBMZJA9dRY"
      }
    },
    {
      "cell_type": "code",
      "source": [
        "def imshow_waitkey_enter(image):\n",
        "    cv2_imshow(image)\n",
        "\n",
        "    time.sleep(0.5)\n",
        "    input(\"Please press the Enter key to proceed\\n\")\n",
        "    output.clear()\n",
        "\n",
        "    pass"
      ],
      "metadata": {
        "id": "x5NZV9et9d7P"
      },
      "execution_count": null,
      "outputs": []
    },
    {
      "cell_type": "markdown",
      "source": [
        "## Run"
      ],
      "metadata": {
        "id": "OsjfNZrh9Z8C"
      }
    },
    {
      "cell_type": "markdown",
      "source": [
        "### Prepare dataset"
      ],
      "metadata": {
        "id": "xu1q7hsx9p9y"
      }
    },
    {
      "cell_type": "code",
      "source": [
        "# Set load image dir path\n",
        "image_path = MODEL_PATH + TRAIN_SET_PATH + IMAGES_PATH\n",
        "label_path = MODEL_PATH + TRAIN_SET_PATH + LABELS_PATH\n",
        "\n",
        "# Load train images\n",
        "os.chdir(image_path)\n",
        "train_files = os.listdir(image_path)\n",
        "train_files.sort()\n",
        "\n",
        "train_images = []\n",
        "for f in train_files: \n",
        "    train_images.append(cv2.imread(f))\n",
        "\n",
        "# Load label images\n",
        "os.chdir(label_path)\n",
        "label_files = os.listdir(label_path)\n",
        "label_files.sort()\n",
        "\n",
        "label_images = []\n",
        "for f in label_files: \n",
        "    label_images.append(cv2.imread(f))\n",
        "\n",
        "Dataset = [(x, label_images[idx]) for idx, x in enumerate(train_images)]"
      ],
      "metadata": {
        "id": "rxBFGyd89aps"
      },
      "execution_count": null,
      "outputs": []
    },
    {
      "cell_type": "markdown",
      "source": [
        "### Model"
      ],
      "metadata": {
        "id": "xbdBhwie-Q1X"
      }
    },
    {
      "cell_type": "code",
      "source": [
        ""
      ],
      "metadata": {
        "id": "Jcr35-y8-Rk4"
      },
      "execution_count": null,
      "outputs": []
    }
  ]
}