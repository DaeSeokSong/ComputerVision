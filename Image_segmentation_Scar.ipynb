{
  "nbformat": 4,
  "nbformat_minor": 0,
  "metadata": {
    "colab": {
      "name": "Image_segmentation-Scar.ipynb",
      "provenance": [],
      "collapsed_sections": [],
      "authorship_tag": "ABX9TyPbk4VdZqcGQMe3l1fqq5/+",
      "include_colab_link": true
    },
    "kernelspec": {
      "name": "python3",
      "display_name": "Python 3"
    },
    "language_info": {
      "name": "python"
    }
  },
  "cells": [
    {
      "cell_type": "markdown",
      "metadata": {
        "id": "view-in-github",
        "colab_type": "text"
      },
      "source": [
        "<a href=\"https://colab.research.google.com/github/DaeSeokSong/image-processing/blob/feature%2FUnet-scar/Image_segmentation_Scar.ipynb\" target=\"_parent\"><img src=\"https://colab.research.google.com/assets/colab-badge.svg\" alt=\"Open In Colab\"/></a>"
      ]
    },
    {
      "cell_type": "markdown",
      "source": [
        "# Reference"
      ],
      "metadata": {
        "id": "rZlnRL-v5aZH"
      }
    },
    {
      "cell_type": "markdown",
      "source": [
        "---\n",
        "\n",
        "## Dataset\n",
        "* [Wound dataset](https://github.com/uwm-bigdata/wound-segmentation)\n",
        "\n",
        "---\n",
        "\n",
        "## Paper\n",
        "* <**Image Segmentation**> [Automatic Skin Lesion Segmentation Using GrabCut in HSV Colour Space](https://paperswithcode.com/paper/automatic-skin-lesion-segmentation-using-1)\n",
        "\n",
        "---"
      ],
      "metadata": {
        "id": "SS7HdGNT5dr3"
      }
    },
    {
      "cell_type": "markdown",
      "source": [
        "# Set development enviroment"
      ],
      "metadata": {
        "id": "zHGq0ofU1eE2"
      }
    },
    {
      "cell_type": "markdown",
      "source": [
        "## Import"
      ],
      "metadata": {
        "id": "D3e6Sq_o1ViV"
      }
    },
    {
      "cell_type": "markdown",
      "source": [
        "### Library"
      ],
      "metadata": {
        "id": "MZQL2ZE01WlL"
      }
    },
    {
      "cell_type": "code",
      "source": [
        "# Image processing\n",
        "import cv2\n",
        "import numpy as np\n",
        "import pandas as pd\n",
        "import matplotlib.pyplot as plt\n",
        "\n",
        "from sklearn.cluster import KMeans\n",
        "from sklearn.preprocessing import MinMaxScaler\n",
        "\n",
        "from google.colab.patches import cv2_imshow\n",
        "from google.colab import output\n",
        "\n",
        "# ETC\n",
        "import os\n",
        "import time"
      ],
      "metadata": {
        "id": "8GSotFnj1ZbU"
      },
      "execution_count": 1,
      "outputs": []
    },
    {
      "cell_type": "markdown",
      "source": [
        "### Google drive mount"
      ],
      "metadata": {
        "id": "nQHFD-cW1ZkD"
      }
    },
    {
      "cell_type": "code",
      "source": [
        "from google.colab import drive\n",
        "drive.mount('/content/gdrive')"
      ],
      "metadata": {
        "colab": {
          "base_uri": "https://localhost:8080/"
        },
        "id": "nvHe0lbz1bb_",
        "outputId": "e3cb4728-b592-4c8d-e825-8b005a28c568"
      },
      "execution_count": 2,
      "outputs": [
        {
          "output_type": "stream",
          "name": "stdout",
          "text": [
            "Mounted at /content/gdrive\n"
          ]
        }
      ]
    },
    {
      "cell_type": "code",
      "source": [
        "%cd /content/gdrive/MyDrive/Models/GAN_Scar\n",
        "!ls -al"
      ],
      "metadata": {
        "colab": {
          "base_uri": "https://localhost:8080/"
        },
        "id": "WOKyEj3d1cg_",
        "outputId": "b40a84d1-18d9-4799-aff5-b2d578962145"
      },
      "execution_count": 3,
      "outputs": [
        {
          "output_type": "stream",
          "name": "stdout",
          "text": [
            "/content/gdrive/MyDrive/Models/GAN_Scar\n",
            "total 10881\n",
            "drwx------ 2 root root     4096 Aug 16 08:53  Dataset\n",
            "-rw------- 1 root root     6625 Aug 29 15:30  Image_segmentation-Scar.ipynb\n",
            "drwx------ 2 root root     4096 Aug 17 05:49  Log\n",
            "-rw------- 1 root root    34986 Aug 29 15:15  Processor_PerformanceTester-Scar.ipynb\n",
            "drwx------ 2 root root     4096 Aug 16 08:39  Raw_Dataset\n",
            "-rw------- 1 root root    16647 Aug 29 15:29  RawDataset_Processor-Scar.ipynb\n",
            "drwx------ 2 root root     4096 Aug 23 14:47  result\n",
            "-rw------- 1 root root    39995 Aug 15 11:40 'UNet architecture.PNG'\n",
            "-rw------- 1 root root 11025818 Aug 29 14:07  Unet-Scar.ipynb\n"
          ]
        }
      ]
    },
    {
      "cell_type": "markdown",
      "source": [
        "# Image segmentation"
      ],
      "metadata": {
        "id": "kHxhDGcV2nep"
      }
    },
    {
      "cell_type": "markdown",
      "source": [
        "## Global variable"
      ],
      "metadata": {
        "id": "0OCd-mG12610"
      }
    },
    {
      "cell_type": "code",
      "source": [
        "MODEL_PATH = \"/content/gdrive/MyDrive/Models/GAN_Scar\"\n",
        "\n",
        "TRAIN_SET_PATH = \"/Dataset/train\"\n",
        "TEST_SET_PATH = \"/Dataset/test\"\n",
        "\n",
        "IMAGES_PATH = '/images'\n",
        "LABELS_PATH = '/labels'\n",
        "\n",
        "NORM_INPUT_SIZE = 480"
      ],
      "metadata": {
        "id": "RhLIeiDv29cL"
      },
      "execution_count": 4,
      "outputs": []
    },
    {
      "cell_type": "markdown",
      "source": [
        "## Function"
      ],
      "metadata": {
        "id": "2P4wIaUd2tIE"
      }
    },
    {
      "cell_type": "code",
      "source": [
        "def imshow_waitkey_enter(image):\n",
        "    cv2_imshow(image)\n",
        "\n",
        "    time.sleep(0.5)\n",
        "    input(\"Please press the Enter key to proceed\\n\")\n",
        "    output.clear()\n",
        "\n",
        "    pass"
      ],
      "metadata": {
        "id": "mzCapZej2uC0"
      },
      "execution_count": 5,
      "outputs": []
    },
    {
      "cell_type": "markdown",
      "source": [
        "## Run"
      ],
      "metadata": {
        "id": "lMu6gVnM2uJe"
      }
    },
    {
      "cell_type": "code",
      "source": [
        "# Set load image dir path\n",
        "image_path = MODEL_PATH + TRAIN_SET_PATH\n",
        "\n",
        "# Load images\n",
        "lst_data = os.listdir(image_path)\n",
        "\n",
        "lst_scar = [f for f in lst_data if f.startswith('scar')]\n",
        "lst_label = [f for f in lst_data if f.startswith('label')]\n",
        "\n",
        "lst_scar.sort()\n",
        "lst_label.sort()\n",
        "\n",
        "train_images = []\n",
        "for f in lst_scar: \n",
        "    train_images.append(cv2.imread(os.path.join(image_path, f)))\n",
        "\n",
        "label_images = []\n",
        "for f in lst_label: \n",
        "    label_images.append(cv2.imread(os.path.join(image_path, f)))\n",
        "\n",
        "Dataset = [(x, label_images[idx]) for idx, x in enumerate(train_images)]"
      ],
      "metadata": {
        "id": "h2u7yNw64yAX"
      },
      "execution_count": 10,
      "outputs": []
    },
    {
      "cell_type": "code",
      "source": [
        "# Preprocess image\n",
        "for image, label in Dataset:\n",
        "    # Resize image\n",
        "    imageW = image.shape[0]\n",
        "    imageH = image.shape[1]\n",
        "\n",
        "    resizeRatioW = imageW / NORM_INPUT_SIZE\n",
        "    resizeRatioH = imageH / NORM_INPUT_SIZE\n",
        "\n",
        "    image = cv2.resize(image, \n",
        "                       (int(imageW / resizeRatioW), int(imageH / resizeRatioH)), \n",
        "                       interpolation=cv2.INTER_CUBIC\n",
        "                       )\n",
        "    label = cv2.resize(label, \n",
        "                       (int(imageW / resizeRatioW), int(imageH / resizeRatioH)), \n",
        "                       interpolation=cv2.INTER_CUBIC\n",
        "                       )\n",
        "\n",
        "    # Save original image\n",
        "    origin_image = image.copy()\n",
        "\n",
        "    # Get HSV image\n",
        "    hsv_image = cv2.cvtColor(image, cv2.COLOR_BGR2HSV)\n",
        "    hue_image, sat_image, val_image = cv2.split(hsv_image)\n",
        "\n",
        "    # Get grayscale image\n",
        "    gray_image = cv2.cvtColor(image, cv2.COLOR_BGR2GRAY)\n",
        "\n",
        "    # Threshold\n",
        "    _, ths_image = cv2.threshold(gray_image, 200, 255, cv2.THRESH_OTSU + cv2.THRESH_BINARY_INV)\n",
        "\n",
        "    # Clustering use K-means\n",
        "    cluster_data = val_image.reshape((-1, 3)).astype(np.float32)\n",
        "    \n",
        "    k = 4\n",
        "    criteria = (cv2.TERM_CRITERIA_EPS|cv2.TERM_CRITERIA_MAX_ITER, 10, 1.0) # 최대 10번 반복하고 1픽셀 이하로 움직이면 종료\n",
        "    ret, c_label, center = cv2.kmeans(cluster_data, \n",
        "                                    k, \n",
        "                                    None, \n",
        "                                    criteria,\n",
        "                                    10,\n",
        "                                    cv2.KMEANS_RANDOM_CENTERS)\n",
        "    \n",
        "    center = np.uint8(center)\n",
        "    dst = center[c_label.flatten()]\n",
        "    dst = dst.reshape((val_image.shape))\n",
        "\n",
        "    cv2_imshow(image)\n",
        "    cv2_imshow(label)\n",
        "    imshow_waitkey_enter(dst)"
      ],
      "metadata": {
        "id": "pY_WFRwg2-X8",
        "colab": {
          "base_uri": "https://localhost:8080/",
          "height": 1000
        },
        "outputId": "db19ceda-c08a-4471-db67-80e580a9f9d3"
      },
      "execution_count": 13,
      "outputs": [
        {
          "output_type": "display_data",
          "data": {
            "text/plain": [
              "<PIL.Image.Image image mode=RGB size=480x480 at 0x7FBE038B4350>"
            ],
            "image/png": "[encoded data removed]"
          },
          "metadata": {}
        },
        {
          "output_type": "display_data",
          "data": {
            "text/plain": [
              "<PIL.Image.Image image mode=RGB size=480x480 at 0x7FBE038B4490>"
            ],
            "image/png": "[encoded data removed]"
          },
          "metadata": {}
        },
        {
          "output_type": "display_data",
          "data": {
            "text/plain": [
              "<PIL.Image.Image image mode=L size=480x480 at 0x7FBE038A7BD0>"
            ],
            "image/png": "[encoded data removed]"
          },
          "metadata": {}
        },
        {
          "output_type": "error",
          "ename": "KeyboardInterrupt",
          "evalue": "ignored",
          "traceback": [
            "\u001b[0;31m---------------------------------------------------------------------------\u001b[0m",
            "\u001b[0;31mKeyboardInterrupt\u001b[0m                         Traceback (most recent call last)",
            "\u001b[0;32m<ipython-input-13-0ff822239ae6>\u001b[0m in \u001b[0;36m<module>\u001b[0;34m\u001b[0m\n\u001b[1;32m     48\u001b[0m     \u001b[0mcv2_imshow\u001b[0m\u001b[0;34m(\u001b[0m\u001b[0mimage\u001b[0m\u001b[0;34m)\u001b[0m\u001b[0;34m\u001b[0m\u001b[0;34m\u001b[0m\u001b[0m\n\u001b[1;32m     49\u001b[0m     \u001b[0mcv2_imshow\u001b[0m\u001b[0;34m(\u001b[0m\u001b[0mlabel\u001b[0m\u001b[0;34m)\u001b[0m\u001b[0;34m\u001b[0m\u001b[0;34m\u001b[0m\u001b[0m\n\u001b[0;32m---> 50\u001b[0;31m     \u001b[0mimshow_waitkey_enter\u001b[0m\u001b[0;34m(\u001b[0m\u001b[0mdst\u001b[0m\u001b[0;34m)\u001b[0m\u001b[0;34m\u001b[0m\u001b[0;34m\u001b[0m\u001b[0m\n\u001b[0m",
            "\u001b[0;32m<ipython-input-5-dd97b0f3deeb>\u001b[0m in \u001b[0;36mimshow_waitkey_enter\u001b[0;34m(image)\u001b[0m\n\u001b[1;32m      3\u001b[0m \u001b[0;34m\u001b[0m\u001b[0m\n\u001b[1;32m      4\u001b[0m     \u001b[0mtime\u001b[0m\u001b[0;34m.\u001b[0m\u001b[0msleep\u001b[0m\u001b[0;34m(\u001b[0m\u001b[0;36m0.5\u001b[0m\u001b[0;34m)\u001b[0m\u001b[0;34m\u001b[0m\u001b[0;34m\u001b[0m\u001b[0m\n\u001b[0;32m----> 5\u001b[0;31m     \u001b[0minput\u001b[0m\u001b[0;34m(\u001b[0m\u001b[0;34m\"Please press the Enter key to proceed\\n\"\u001b[0m\u001b[0;34m)\u001b[0m\u001b[0;34m\u001b[0m\u001b[0;34m\u001b[0m\u001b[0m\n\u001b[0m\u001b[1;32m      6\u001b[0m     \u001b[0moutput\u001b[0m\u001b[0;34m.\u001b[0m\u001b[0mclear\u001b[0m\u001b[0;34m(\u001b[0m\u001b[0;34m)\u001b[0m\u001b[0;34m\u001b[0m\u001b[0;34m\u001b[0m\u001b[0m\n\u001b[1;32m      7\u001b[0m \u001b[0;34m\u001b[0m\u001b[0m\n",
            "\u001b[0;32m/usr/local/lib/python3.7/dist-packages/ipykernel/kernelbase.py\u001b[0m in \u001b[0;36mraw_input\u001b[0;34m(self, prompt)\u001b[0m\n\u001b[1;32m    861\u001b[0m             \u001b[0mself\u001b[0m\u001b[0;34m.\u001b[0m\u001b[0m_parent_ident\u001b[0m\u001b[0;34m,\u001b[0m\u001b[0;34m\u001b[0m\u001b[0;34m\u001b[0m\u001b[0m\n\u001b[1;32m    862\u001b[0m             \u001b[0mself\u001b[0m\u001b[0;34m.\u001b[0m\u001b[0m_parent_header\u001b[0m\u001b[0;34m,\u001b[0m\u001b[0;34m\u001b[0m\u001b[0;34m\u001b[0m\u001b[0m\n\u001b[0;32m--> 863\u001b[0;31m             \u001b[0mpassword\u001b[0m\u001b[0;34m=\u001b[0m\u001b[0;32mFalse\u001b[0m\u001b[0;34m,\u001b[0m\u001b[0;34m\u001b[0m\u001b[0;34m\u001b[0m\u001b[0m\n\u001b[0m\u001b[1;32m    864\u001b[0m         )\n\u001b[1;32m    865\u001b[0m \u001b[0;34m\u001b[0m\u001b[0m\n",
            "\u001b[0;32m/usr/local/lib/python3.7/dist-packages/ipykernel/kernelbase.py\u001b[0m in \u001b[0;36m_input_request\u001b[0;34m(self, prompt, ident, parent, password)\u001b[0m\n\u001b[1;32m    902\u001b[0m             \u001b[0;32mexcept\u001b[0m \u001b[0mKeyboardInterrupt\u001b[0m\u001b[0;34m:\u001b[0m\u001b[0;34m\u001b[0m\u001b[0;34m\u001b[0m\u001b[0m\n\u001b[1;32m    903\u001b[0m                 \u001b[0;31m# re-raise KeyboardInterrupt, to truncate traceback\u001b[0m\u001b[0;34m\u001b[0m\u001b[0;34m\u001b[0m\u001b[0;34m\u001b[0m\u001b[0m\n\u001b[0;32m--> 904\u001b[0;31m                 \u001b[0;32mraise\u001b[0m \u001b[0mKeyboardInterrupt\u001b[0m\u001b[0;34m(\u001b[0m\u001b[0;34m\"Interrupted by user\"\u001b[0m\u001b[0;34m)\u001b[0m \u001b[0;32mfrom\u001b[0m \u001b[0;32mNone\u001b[0m\u001b[0;34m\u001b[0m\u001b[0;34m\u001b[0m\u001b[0m\n\u001b[0m\u001b[1;32m    905\u001b[0m             \u001b[0;32mexcept\u001b[0m \u001b[0mException\u001b[0m \u001b[0;32mas\u001b[0m \u001b[0me\u001b[0m\u001b[0;34m:\u001b[0m\u001b[0;34m\u001b[0m\u001b[0;34m\u001b[0m\u001b[0m\n\u001b[1;32m    906\u001b[0m                 \u001b[0mself\u001b[0m\u001b[0;34m.\u001b[0m\u001b[0mlog\u001b[0m\u001b[0;34m.\u001b[0m\u001b[0mwarning\u001b[0m\u001b[0;34m(\u001b[0m\u001b[0;34m\"Invalid Message:\"\u001b[0m\u001b[0;34m,\u001b[0m \u001b[0mexc_info\u001b[0m\u001b[0;34m=\u001b[0m\u001b[0;32mTrue\u001b[0m\u001b[0;34m)\u001b[0m\u001b[0;34m\u001b[0m\u001b[0;34m\u001b[0m\u001b[0m\n",
            "\u001b[0;31mKeyboardInterrupt\u001b[0m: Interrupted by user"
          ]
        }
      ]
    },
    {
      "cell_type": "code",
      "source": [
        "    # Select candidate of wound region\n",
        "    contours, hierarchy = cv2.findContours(morph_image, cv2.RETR_TREE, cv2.CHAIN_APPROX_SIMPLE)\n",
        "    for idx, contour in enumerate(contours):\n",
        "        # Substract black boundary\n",
        "        \"\"\"\n",
        "        hierarchy[0][idx], 해당 contour의 계층 정보\n",
        "        (다음 contour, 이전 contour, 첫번째 자식 contour, 부모 contour)\n",
        "        \"\"\"\n",
        "        if hierarchy[0][idx][0] == -1: continue\n",
        "\n",
        "        # Delete small region\n",
        "        x, y, width, height = cv2.boundingRect(contour)\n",
        "        if width < 20 or height < 20: continue\n",
        "\n",
        "        box_image = cv2.drawContours(image, contours, idx, (0, 255, 0), -1)\n",
        "        imshow_waitkey_enter(box_image)\n",
        "\n",
        "    cv2_imshow(label)\n",
        "    imshow_waitkey_enter(box_image)"
      ],
      "metadata": {
        "id": "ZuhHFkSNG0dr"
      },
      "execution_count": null,
      "outputs": []
    }
  ]
}