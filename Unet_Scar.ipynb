{
  "nbformat": 4,
  "nbformat_minor": 0,
  "metadata": {
    "colab": {
      "name": "Unet-Scar.ipynb",
      "provenance": [],
      "collapsed_sections": [],
      "toc_visible": true,
      "authorship_tag": "ABX9TyOop50Q+04PQOogsX0OX8bA",
      "include_colab_link": true
    },
    "kernelspec": {
      "name": "python3",
      "display_name": "Python 3"
    },
    "language_info": {
      "name": "python"
    },
    "accelerator": "GPU",
    "gpuClass": "standard"
  },
  "cells": [
    {
      "cell_type": "markdown",
      "metadata": {
        "id": "view-in-github",
        "colab_type": "text"
      },
      "source": [
        "<a href=\"https://colab.research.google.com/github/DaeSeokSong/image-processing/blob/feature%2FUnet-scar/Unet_Scar.ipynb\" target=\"_parent\"><img src=\"https://colab.research.google.com/assets/colab-badge.svg\" alt=\"Open In Colab\"/></a>"
      ]
    },
    {
      "cell_type": "markdown",
      "source": [
        "# ※ Precautions\n",
        "# 1. RawDataset_Processor 실행 후 UNet 실행\n",
        "\n",
        "<br>\n",
        "\n",
        "---\n",
        "\n",
        "<br>"
      ],
      "metadata": {
        "id": "xuju0_8jyNnP"
      }
    },
    {
      "cell_type": "markdown",
      "source": [
        "# 『Reference』\n",
        "\n",
        "* *Paper*\n",
        ">   [U-net](https://paperswithcode.com/paper/u-net-convolutional-networks-for-biomedical)\n",
        ">\n",
        "> 기존 CNN은 Single classification task에 사용되었지만,\n",
        "> \n",
        "> biomedical image processing 분야에서는 한 이미지 내의 모든 pixel을 classification 하는 Semantic segmentation task가 중요하게 사용되었다.\n",
        ">\n",
        ">  sliding window 방식을 사용하는 CNN 구조와 달리 검증된 patch는 넘기기 때문에 보다 빠른 처리가 가능한 구조이다.\n",
        "> \n",
        "> 적은 양의 데이터로도 dataset argumentation을 통해 잘 학습시킬 수 있다.\n",
        ">   * [U-net++](https://paperswithcode.com/paper/unet-a-nested-u-net-architecture-for-medical)\n",
        ">   * [ResUNet++](https://paperswithcode.com/paper/resunet-an-advanced-architecture-for-medical)\n",
        "\n",
        "<br>\n",
        "\n",
        "* *Lecture*\n",
        "> * [UNet architecture by pytorch](https://89douner.tistory.com/300)\n",
        "> * [Train method of UNet](https://toitoitoi79.tistory.com/97)\n",
        "\n"
      ],
      "metadata": {
        "id": "ETKXZy_BpRBn"
      }
    },
    {
      "cell_type": "markdown",
      "source": [
        "# 1.Development enviroment"
      ],
      "metadata": {
        "id": "lgbE_AiY8yV7"
      }
    },
    {
      "cell_type": "markdown",
      "source": [
        "## 1) Import"
      ],
      "metadata": {
        "id": "NVNq8Y-A89nl"
      }
    },
    {
      "cell_type": "markdown",
      "source": [
        "### 1-1) Library"
      ],
      "metadata": {
        "id": "_vKiIgjo9Dro"
      }
    },
    {
      "cell_type": "code",
      "execution_count": null,
      "metadata": {
        "id": "ZsXjyWownhef"
      },
      "outputs": [],
      "source": [
        "# U-net\n",
        "import torch\n",
        "import torch.nn as nn\n",
        "\n",
        "from torch.utils.data import Dataset, DataLoader\n",
        "from torch.utils.tensorboard import SummaryWriter\n",
        "\n",
        "from torchvision import transforms\n",
        "\n",
        "from sklearn.model_selection import train_test_split\n",
        "\n",
        "# Image processing\n",
        "import cv2\n",
        "import numpy as np\n",
        "import matplotlib.pyplot as plt\n",
        "\n",
        "from google.colab.patches import cv2_imshow\n",
        "from google.colab import output\n",
        "\n",
        "# ETC\n",
        "import os\n",
        "import time\n",
        "\n",
        "from PIL import Image"
      ]
    },
    {
      "cell_type": "markdown",
      "source": [
        "### 1-2) Mount google drive"
      ],
      "metadata": {
        "id": "Pcj_F7KZ9FEV"
      }
    },
    {
      "cell_type": "code",
      "source": [
        "from google.colab import drive\n",
        "drive.mount('/content/gdrive')"
      ],
      "metadata": {
        "id": "I1I8TPjO9INs",
        "colab": {
          "base_uri": "https://localhost:8080/"
        },
        "outputId": "bbcaab6e-d654-4fc1-dec9-ecc999691bc5"
      },
      "execution_count": null,
      "outputs": [
        {
          "output_type": "stream",
          "name": "stdout",
          "text": [
            "Mounted at /content/gdrive\n"
          ]
        }
      ]
    },
    {
      "cell_type": "code",
      "source": [
        "%cd /content/gdrive/MyDrive/Models/GAN_Scar\n",
        "!ls -al"
      ],
      "metadata": {
        "id": "QrRWaQd09Joq",
        "colab": {
          "base_uri": "https://localhost:8080/"
        },
        "outputId": "86d31094-80e8-4b49-b898-621fda30f59a"
      },
      "execution_count": null,
      "outputs": [
        {
          "output_type": "stream",
          "name": "stdout",
          "text": [
            "/content/gdrive/MyDrive/Models/GAN_Scar\n",
            "total 144\n",
            "drwx------ 2 root root  4096 Aug  9 13:27  Dataset\n",
            "-rw------- 1 root root 86402 Aug 13 09:16  Image_segmentation-Scar.ipynb\n",
            "-rw------- 1 root root 39995 Aug 15 11:40 'UNet architecture.PNG'\n",
            "-rw------- 1 root root 15687 Aug 16 07:36  Unet-Scar.ipynb\n"
          ]
        }
      ]
    },
    {
      "cell_type": "markdown",
      "source": [
        "# 2.Train U-Net"
      ],
      "metadata": {
        "id": "UGNH-Msw9Lyx"
      }
    },
    {
      "cell_type": "markdown",
      "source": [
        "## 1) Grobal variable"
      ],
      "metadata": {
        "id": "6V4ug77i9eo6"
      }
    },
    {
      "cell_type": "code",
      "source": [
        "# Path\n",
        "MODEL_PATH = \"/content/gdrive/MyDrive/Models/GAN_Scar\"\n",
        "\n",
        "TRAIN_SET_PATH = \"/Dataset/train\"\n",
        "TEST_SET_PATH = \"/Dataset/test\"\n",
        "\n",
        "IMAGES_PATH = '/images'\n",
        "LABELS_PATH = '/labels'\n",
        "\n",
        "# Train hyperparameter\n",
        "LR = 1e-3\n",
        "BATCH_SIZE = 4\n",
        "EPOCH = 100\n",
        "\n",
        "\"\"\"\n",
        "GPU 사용이 가능하면 cuda 사용\n",
        "아니면 CPU를 이용하여 학습\n",
        "\"\"\"\n",
        "DEVICE = torch.device('cuda' if torch.cuda.is_available() else 'cpu')"
      ],
      "metadata": {
        "id": "IfyygS-p9gzc"
      },
      "execution_count": null,
      "outputs": []
    },
    {
      "cell_type": "markdown",
      "source": [
        "## 2) Class"
      ],
      "metadata": {
        "id": "Vin2caAL9b0r"
      }
    },
    {
      "cell_type": "markdown",
      "source": [
        "### 2-1) U-Net"
      ],
      "metadata": {
        "id": "l7ttKi5fU8L6"
      }
    },
    {
      "cell_type": "markdown",
      "source": [
        "#### 2-1-1) Architecture"
      ],
      "metadata": {
        "id": "zj6HFu6eUeuw"
      }
    },
    {
      "cell_type": "markdown",
      "source": [
        "<img src = \"https://drive.google.com/uc?id=14CzAAaKv5v7pVfvugBRbD1xI4IuhmoyT\"  width = 640>"
      ],
      "metadata": {
        "id": "pYEyOHCoTsJV"
      }
    },
    {
      "cell_type": "markdown",
      "source": [
        "#### 2-1-2) Build network"
      ],
      "metadata": {
        "id": "-ERI7fzVOrkQ"
      }
    },
    {
      "cell_type": "code",
      "source": [
        "# torch.nn의 Module 클래스를 상속한, 커스텀 UNet 클래스\n",
        "class UNet(nn.Module):\n",
        "    def __init__(self):\n",
        "        super(UNet, self).__init__()\n",
        "\n",
        "        # kernel size, stride, padding, bias는 거의 고정 >> predefine\n",
        "        def ConvBatchReLU_2d(in_ch, out_ch, k_size=3, stride=1, padding=1, bias=True):\n",
        "            layers = []\n",
        "\n",
        "            # Add Conv layer\n",
        "            layers += [nn.Conv2d(in_channels=in_ch,\n",
        "                                 out_channels=out_ch,\n",
        "                                 kernel_size=k_size,\n",
        "                                 stride=stride,\n",
        "                                 padding=padding,\n",
        "                                 bias=bias\n",
        "                                 )]\n",
        "\n",
        "            # Add batch normalization layer\n",
        "            layers += [nn.BatchNorm2d(num_features=out_ch)]\n",
        "\n",
        "            # Add ReLU\n",
        "            layers += [nn.ReLU()]\n",
        "\n",
        "            # Define conv, ReLU step in contracting path\n",
        "            CBR = nn.Sequential(*layers)\n",
        "\n",
        "            return CBR\n",
        "\n",
        "        \"\"\"\n",
        "        [Contracting path]\n",
        "        >> 입력 이미지의 context 포착이 목적\n",
        "        \"\"\"\n",
        "        # enc == encoder / n_m == n번째 stage(step)의 m번째 레이어\n",
        "        self.enc1_1 = ConvBatchReLU_2d(in_ch=1, out_ch=64)\n",
        "        self.enc1_2 = ConvBatchReLU_2d(in_ch=64, out_ch=64)\n",
        "\n",
        "        self.pool1 = nn.MaxPool2d(kernel_size=2)\n",
        "\n",
        "        self.enc2_1 = ConvBatchReLU_2d(in_ch=64, out_ch=128)\n",
        "        self.enc2_2 = ConvBatchReLU_2d(in_ch=128, out_ch=128)\n",
        "\n",
        "        self.pool2 = nn.MaxPool2d(kernel_size=2)\n",
        "\n",
        "        self.enc3_1 = ConvBatchReLU_2d(in_ch=128, out_ch=256)\n",
        "        self.enc3_2 = ConvBatchReLU_2d(in_ch=256, out_ch=256)\n",
        "\n",
        "        self.pool3 = nn.MaxPool2d(kernel_size=2)\n",
        "\n",
        "        self.enc4_1 = ConvBatchReLU_2d(in_ch=256, out_ch=512)\n",
        "        self.enc4_2 = ConvBatchReLU_2d(in_ch=512, out_ch=512)\n",
        "\n",
        "        self.pool4 = nn.MaxPool2d(kernel_size=2)\n",
        "\n",
        "        self.enc5_1 = ConvBatchReLU_2d(in_ch=512, out_ch=1024)\n",
        "\n",
        "        \"\"\"\n",
        "        [Expansive path]\n",
        "        >> 세밀한 Localization을 위한 높은 차원의 채널을 갖는 Upsampling\n",
        "        >> 얕은 레이어의 특집 맵을 결합\n",
        "        \"\"\"\n",
        "        # dec == decoder\n",
        "        self.dec5_1 = ConvBatchReLU_2d(in_ch=1024, out_ch=512)\n",
        "\n",
        "        # up-conv 레이어는 채널을 복원을 해야하기 때문에 kernel size를\n",
        "        # 대칭되는 MaxPool layer의 kernel size와 같도록 설정한다.\n",
        "        self.unpool4 = nn.ConvTranspose2d(in_channels=512,\n",
        "                                          out_channels=512,\n",
        "                                          kernel_size=2,\n",
        "                                          stride=2,\n",
        "                                          padding=0,\n",
        "                                          bias=True)\n",
        "        \n",
        "        # input channel은 up-conv와 대칭되는 enc, 두 레이어에서\n",
        "        # 같은 크기의 채널로 오기 때문에 대칭 enc 레이어보다 input이 두 배 많다.\n",
        "        self.dec4_2 = ConvBatchReLU_2d(in_ch=2 * 512, out_ch=512)\n",
        "        self.dec4_1 = ConvBatchReLU_2d(in_ch=512, out_ch=256)\n",
        "\n",
        "        self.unpool3 = nn.ConvTranspose2d(in_channels=256,\n",
        "                                          out_channels=256,\n",
        "                                          kernel_size=2,\n",
        "                                          stride=2,\n",
        "                                          padding=0,\n",
        "                                          bias=True)\n",
        "        \n",
        "        self.dec3_2 = ConvBatchReLU_2d(in_ch=2 * 256, out_ch=256)\n",
        "        self.dec3_1 = ConvBatchReLU_2d(in_ch=256, out_ch=128)\n",
        "\n",
        "        self.unpool2 = nn.ConvTranspose2d(in_channels=128,\n",
        "                                          out_channels=128,\n",
        "                                          kernel_size=2,\n",
        "                                          stride=2,\n",
        "                                          padding=0,\n",
        "                                          bias=True)\n",
        "        \n",
        "        self.dec2_2 = ConvBatchReLU_2d(in_ch=2 * 128, out_ch=128)\n",
        "        self.dec2_1 = ConvBatchReLU_2d(in_ch=128, out_ch=64)\n",
        "\n",
        "        self.unpool1 = nn.ConvTranspose2d(in_channels=64,\n",
        "                                          out_channels=64,\n",
        "                                          kernel_size=2,\n",
        "                                          stride=2,\n",
        "                                          padding=0,\n",
        "                                          bias=True)\n",
        "        \n",
        "        self.dec1_2 = ConvBatchReLU_2d(in_ch=2 * 64, out_ch=64)\n",
        "        self.dec1_1 = ConvBatchReLU_2d(in_ch=64, out_ch=64)\n",
        "\n",
        "        # conv 1*1, N class for segmentation\n",
        "        self.conv = nn.Conv2d(in_channels=64,\n",
        "                              out_channels=2,\n",
        "                              kernel_size=1,\n",
        "                              stride=1,\n",
        "                              padding=0,\n",
        "                              bias=True)\n",
        "        \n",
        "    # x == input_image\n",
        "    def forward(self, x):\n",
        "        # encoder part\n",
        "        enc1_1 = self.enc1_1(x)\n",
        "        enc1_2 = self.enc1_2(enc1_1)\n",
        "        pool1 = self.pool1(enc1_2)\n",
        "\n",
        "        enc2_1 = self.enc1_1(pool1)\n",
        "        enc2_2 = self.enc1_2(enc2_1)\n",
        "        pool2 = self.pool1(enc2_2)\n",
        "        \n",
        "        enc3_1 = self.enc1_1(pool2)\n",
        "        enc3_2 = self.enc1_2(enc3_1)\n",
        "        pool3 = self.pool1(enc3_2)\n",
        "\n",
        "        enc4_1 = self.enc1_1(pool3)\n",
        "        enc4_2 = self.enc1_2(enc4_1)\n",
        "        pool4 = self.pool1(enc4_2)\n",
        "\n",
        "        enc5_1 = self.enc5_1(pool4)\n",
        "\n",
        "        # decoder part\n",
        "        dec5_1 = self.dec5_1(enc5_1)\n",
        "\n",
        "        unpool4 = self.unpool4(dec5_1)\n",
        "        \"\"\"\n",
        "        [Skip connection]\n",
        "        >> Semantic segmentation에서는 위치정보가 중요하기에\n",
        "        >> 이에 대한 소실 방지 차원에서 이전 연산했던 값을 더해준다.\n",
        "        \"\"\"\n",
        "        # concatenate, 두 차원을 결합해준다.\n",
        "        # dim=[0:batch, 1:channel, 2:height, 3:width]\n",
        "        cat4 = torch.cat((unpool4, enc4_2), dim=1)\n",
        "        dec4_2 = self.dec4_2(cat4)\n",
        "        dec4_1 = self.dec4_1(dec4_2)\n",
        "\n",
        "        unpool3 = self.unpool4(dec4_1)\n",
        "        cat3 = torch.cat((unpool3, enc3_2), dim=1)\n",
        "        dec3_2 = self.dec4_2(cat3)\n",
        "        dec3_1 = self.dec4_1(dec3_2)\n",
        "\n",
        "        unpool2 = self.unpool4(dec3_1)\n",
        "        cat2 = torch.cat((unpool2, enc2_2), dim=1)\n",
        "        dec2_2 = self.dec4_2(cat2)\n",
        "        dec2_1 = self.dec4_1(dec2_2)\n",
        "\n",
        "        unpool1 = self.unpool4(dec2_1)\n",
        "        cat1 = torch.cat((unpool1, enc1_2), dim=1)\n",
        "        dec1_2 = self.dec4_2(cat1)\n",
        "        dec1_1 = self.dec4_1(dec1_2)\n",
        "\n",
        "        x = self.conv(dec1_1)\n",
        "\n",
        "        return x"
      ],
      "metadata": {
        "id": "JUWtaQKf9dJ0"
      },
      "execution_count": null,
      "outputs": []
    },
    {
      "cell_type": "markdown",
      "source": [
        "### 2-2) Pytorch"
      ],
      "metadata": {
        "id": "wxCDqnkVU_fm"
      }
    },
    {
      "cell_type": "markdown",
      "source": [
        "#### 2-2-1) Dataset"
      ],
      "metadata": {
        "id": "xkgZx5qbVJNx"
      }
    },
    {
      "cell_type": "code",
      "source": [
        "class ScarDataset(Dataset):\n",
        "    def __init__(self, data_dir, transform=None):\n",
        "        self.data_dir = data_dir\n",
        "        self.transform = transform\n",
        "\n",
        "        lst_data = os.listdir(self.data_dir)\n",
        "\n",
        "        lst_scar = [f for f in lst_data if f.startswith('scar')]\n",
        "        lst_label = [f for f in lst_data if f.startswith('label')]\n",
        "\n",
        "        lst_scar.sort()\n",
        "        lst_label.sort()\n",
        "\n",
        "        self.lst_scar = lst_scar\n",
        "        self.lst_label = lst_label\n",
        "\n",
        "    def __len__(self):\n",
        "        return len(self.lst_label)\n",
        "\n",
        "    def __getitem__(self, index):\n",
        "        scar = np.load(os.path.join(self.data_dir, self.lst_scar[index]))\n",
        "        label = np.load(os.path.join(self.data_dir, self.lst_label[index]))\n",
        "\n",
        "        scar = scar/255.0\n",
        "        label = label/255.0\n",
        "\n",
        "        if input.ndim == 2:\n",
        "            scar = scar[:, :, np.newaxis]\n",
        "        if label.ndim == 2:\n",
        "            label = label[:, :, np.newaxis]\n",
        "\n",
        "        data = {'scar': scar, 'label': label}\n",
        "\n",
        "        if self.transform:\n",
        "            data = self.transform(data)\n",
        "\n",
        "        return data"
      ],
      "metadata": {
        "id": "VqnUx025VKpg"
      },
      "execution_count": null,
      "outputs": []
    },
    {
      "cell_type": "markdown",
      "source": [
        "#### 2-2-2) Transform"
      ],
      "metadata": {
        "id": "3Rv22BEuok0D"
      }
    },
    {
      "cell_type": "code",
      "source": [
        "class ToTensor(object):\n",
        "    def __call__(self, data):\n",
        "        scar, label = data['scar'], data['label']\n",
        "        scar = scar.transpose((2, 0, 1)).astype(np.float32)\n",
        "        label = label.transpose((2, 0, 1)).astype(np.float32)\n",
        "\n",
        "        data = {'scar': torch.from_numpy(scar), 'label': torch.from_numpy(label)}\n",
        "\n",
        "        return data\n",
        "\n",
        "class Normalization(object):\n",
        "    def __init__(self, mean=0.5, std=0.5):\n",
        "        self.mean = mean\n",
        "        self.std = std\n",
        "\n",
        "    def __call__(self, data):\n",
        "        scar, label = data['scar'], data['label']\n",
        "\n",
        "        scar = (scar - self.mean) / self.std\n",
        "\n",
        "        data = {'scar': scar, 'label': label}\n",
        "\n",
        "        return data\n",
        "\n",
        "class RandomFlip(object):\n",
        "    def __call__(self, data):\n",
        "        scar, label = data['scar'], data['label']\n",
        "\n",
        "        if np.random.rand() > 0.5:\n",
        "            scar = np.fliplr(scar)\n",
        "            label = np.fliplr(label)\n",
        "\n",
        "        if np.random.rand() > 0.5:\n",
        "            scar = np.flipud(scar)\n",
        "            label = np.flipud(label)\n",
        "\n",
        "        data = {'scar': scar, 'label': label}\n",
        "\n",
        "        return data"
      ],
      "metadata": {
        "id": "1FfoKGJZol9C"
      },
      "execution_count": null,
      "outputs": []
    },
    {
      "cell_type": "markdown",
      "source": [
        "## 3) Funtion"
      ],
      "metadata": {
        "id": "VKaBMZJA9dRY"
      }
    },
    {
      "cell_type": "markdown",
      "source": [
        "### 3-1) Convenience func"
      ],
      "metadata": {
        "id": "Gz64t2r_EGB2"
      }
    },
    {
      "cell_type": "code",
      "source": [
        "def imshow_waitkey_enter(image):\n",
        "    cv2_imshow(image)\n",
        "\n",
        "    time.sleep(0.5)\n",
        "    \n",
        "    input(\"Please press the Enter key to proceed\\n\")\n",
        "    output.clear()\n",
        "\n",
        "    pass"
      ],
      "metadata": {
        "id": "l6Tqm1fLEHL7"
      },
      "execution_count": null,
      "outputs": []
    },
    {
      "cell_type": "markdown",
      "source": [
        "## 4) Run"
      ],
      "metadata": {
        "id": "OsjfNZrh9Z8C"
      }
    },
    {
      "cell_type": "markdown",
      "source": [
        "### 4-1) Prepare dataset"
      ],
      "metadata": {
        "id": "xu1q7hsx9p9y"
      }
    },
    {
      "cell_type": "code",
      "source": [
        ""
      ],
      "metadata": {
        "id": "rxBFGyd89aps"
      },
      "execution_count": null,
      "outputs": []
    },
    {
      "cell_type": "markdown",
      "source": [
        "### 4-2) Model"
      ],
      "metadata": {
        "id": "xbdBhwie-Q1X"
      }
    },
    {
      "cell_type": "code",
      "source": [
        ""
      ],
      "metadata": {
        "id": "Jcr35-y8-Rk4"
      },
      "execution_count": null,
      "outputs": []
    }
  ]
}